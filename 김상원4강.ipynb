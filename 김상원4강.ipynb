{
  "nbformat": 4,
  "nbformat_minor": 0,
  "metadata": {
    "colab": {
      "provenance": [],
      "collapsed_sections": [],
      "authorship_tag": "ABX9TyMIQMHXYsFHtcSabir4L9Kl",
      "include_colab_link": true
    },
    "kernelspec": {
      "name": "python3",
      "display_name": "Python 3"
    },
    "language_info": {
      "name": "python"
    }
  },
  "cells": [
    {
      "cell_type": "markdown",
      "metadata": {
        "id": "view-in-github",
        "colab_type": "text"
      },
      "source": [
        "<a href=\"https://colab.research.google.com/github/wonsangkkim/knu_ml_2022/blob/main/%EA%B9%80%EC%83%81%EC%9B%904%EA%B0%95.ipynb\" target=\"_parent\"><img src=\"https://colab.research.google.com/assets/colab-badge.svg\" alt=\"Open In Colab\"/></a>"
      ]
    },
    {
      "cell_type": "code",
      "execution_count": null,
      "metadata": {
        "id": "Pybg2QBFMWmp"
      },
      "outputs": [],
      "source": [
        " import pandas as pd"
      ]
    },
    {
      "cell_type": "code",
      "source": [
        "# Series형식\n",
        "a = pd.Series([7,3,5,8])"
      ],
      "metadata": {
        "id": "KscJWlI_Ni3o"
      },
      "execution_count": null,
      "outputs": []
    },
    {
      "cell_type": "code",
      "source": [
        "print(a)"
      ],
      "metadata": {
        "colab": {
          "base_uri": "https://localhost:8080/"
        },
        "id": "hS54IbJnN8l4",
        "outputId": "b95251bb-d965-4d8f-827e-a4b5cf170946"
      },
      "execution_count": null,
      "outputs": [
        {
          "output_type": "stream",
          "name": "stdout",
          "text": [
            "0    7\n",
            "1    3\n",
            "2    5\n",
            "3    8\n",
            "dtype: int64\n"
          ]
        }
      ]
    },
    {
      "cell_type": "code",
      "source": [
        "(a[0],a[1],a[2])"
      ],
      "metadata": {
        "colab": {
          "base_uri": "https://localhost:8080/"
        },
        "id": "yiJVBfhcOJhl",
        "outputId": "4a73d6e2-6bc3-48e0-b2e0-a7a2aa7dd2ab"
      },
      "execution_count": null,
      "outputs": [
        {
          "output_type": "execute_result",
          "data": {
            "text/plain": [
              "(7, 3, 5)"
            ]
          },
          "metadata": {},
          "execution_count": 11
        }
      ]
    },
    {
      "cell_type": "code",
      "source": [
        "x = pd.Series([7, 3, 5, 8], index = ['A','B','C','D'])"
      ],
      "metadata": {
        "id": "gSKjfrTBOSbk"
      },
      "execution_count": null,
      "outputs": []
    },
    {
      "cell_type": "code",
      "source": [
        "print(x)"
      ],
      "metadata": {
        "colab": {
          "base_uri": "https://localhost:8080/"
        },
        "id": "5sbVThnBqv86",
        "outputId": "ff54049d-cb90-4bbe-c32c-01b069068d29"
      },
      "execution_count": null,
      "outputs": [
        {
          "output_type": "stream",
          "name": "stdout",
          "text": [
            "A    7\n",
            "B    3\n",
            "C    5\n",
            "D    8\n",
            "dtype: int64\n"
          ]
        }
      ]
    },
    {
      "cell_type": "code",
      "source": [
        "x['A']"
      ],
      "metadata": {
        "colab": {
          "base_uri": "https://localhost:8080/"
        },
        "id": "8XMrDA8zq9Cg",
        "outputId": "fd53acdc-fcfa-4aa5-8e97-9708e5510345"
      },
      "execution_count": null,
      "outputs": [
        {
          "output_type": "execute_result",
          "data": {
            "text/plain": [
              "7"
            ]
          },
          "metadata": {},
          "execution_count": 14
        }
      ]
    },
    {
      "cell_type": "code",
      "source": [
        "x['C']"
      ],
      "metadata": {
        "colab": {
          "base_uri": "https://localhost:8080/"
        },
        "id": "bd3Rv1ROq_uJ",
        "outputId": "90f3242e-e240-4d63-e12e-614c408f2718"
      },
      "execution_count": null,
      "outputs": [
        {
          "output_type": "execute_result",
          "data": {
            "text/plain": [
              "5"
            ]
          },
          "metadata": {},
          "execution_count": 15
        }
      ]
    },
    {
      "cell_type": "code",
      "source": [
        "x[['A','B']]"
      ],
      "metadata": {
        "colab": {
          "base_uri": "https://localhost:8080/"
        },
        "id": "8y-1niM2rEGG",
        "outputId": "27a98ce0-f7c9-4f60-c0fc-8ca38b75eeab"
      },
      "execution_count": null,
      "outputs": [
        {
          "output_type": "execute_result",
          "data": {
            "text/plain": [
              "A    7\n",
              "B    3\n",
              "dtype: int64"
            ]
          },
          "metadata": {},
          "execution_count": 16
        }
      ]
    },
    {
      "cell_type": "code",
      "source": [
        "x.index"
      ],
      "metadata": {
        "colab": {
          "base_uri": "https://localhost:8080/"
        },
        "id": "FME_9SVlrN09",
        "outputId": "02c1ad76-9299-4039-d3f7-67d2507a13d2"
      },
      "execution_count": null,
      "outputs": [
        {
          "output_type": "execute_result",
          "data": {
            "text/plain": [
              "Index(['A', 'B', 'C', 'D'], dtype='object')"
            ]
          },
          "metadata": {},
          "execution_count": 17
        }
      ]
    },
    {
      "cell_type": "code",
      "source": [
        "x.values ### pandas 형 변수의 값만으 불러 옮"
      ],
      "metadata": {
        "colab": {
          "base_uri": "https://localhost:8080/"
        },
        "id": "f3lLU5gTrYmp",
        "outputId": "ca1ac296-dbde-4062-b47f-3b9ef2816336"
      },
      "execution_count": null,
      "outputs": [
        {
          "output_type": "execute_result",
          "data": {
            "text/plain": [
              "array([7, 3, 5, 8])"
            ]
          },
          "metadata": {},
          "execution_count": 18
        }
      ]
    },
    {
      "cell_type": "code",
      "source": [
        "### Sorted()함수 사용하기 값이나 index를 정렬할 수 있음"
      ],
      "metadata": {
        "id": "9YJdbuinsoPT"
      },
      "execution_count": null,
      "outputs": []
    },
    {
      "cell_type": "code",
      "source": [
        "print(sorted(x.index))"
      ],
      "metadata": {
        "colab": {
          "base_uri": "https://localhost:8080/"
        },
        "id": "Ljc_STZfsvyd",
        "outputId": "3a28c2d5-9ca8-478c-b9a8-6198d4df94c8"
      },
      "execution_count": null,
      "outputs": [
        {
          "output_type": "stream",
          "name": "stdout",
          "text": [
            "['A', 'B', 'C', 'D']\n"
          ]
        }
      ]
    },
    {
      "cell_type": "code",
      "source": [
        "print(sorted(x.values))"
      ],
      "metadata": {
        "colab": {
          "base_uri": "https://localhost:8080/"
        },
        "id": "77GrDFP9s2Sz",
        "outputId": "c390ba01-ab5f-483a-ecbf-86adbaaa72b0"
      },
      "execution_count": null,
      "outputs": [
        {
          "output_type": "stream",
          "name": "stdout",
          "text": [
            "[3, 5, 7, 8]\n"
          ]
        }
      ]
    },
    {
      "cell_type": "code",
      "source": [
        "x = pd.Series([7,3,5,8], index = ['dog','cat','pandas','turtle'])"
      ],
      "metadata": {
        "id": "CER8oFfts8df"
      },
      "execution_count": null,
      "outputs": []
    },
    {
      "cell_type": "code",
      "source": [
        "x"
      ],
      "metadata": {
        "colab": {
          "base_uri": "https://localhost:8080/"
        },
        "id": "rEeHRG2rtmIj",
        "outputId": "0e451e27-5fec-40a2-97c9-7ece6ed17988"
      },
      "execution_count": null,
      "outputs": [
        {
          "output_type": "execute_result",
          "data": {
            "text/plain": [
              "dog       7\n",
              "cat       3\n",
              "pandas    5\n",
              "turtle    8\n",
              "dtype: int64"
            ]
          },
          "metadata": {},
          "execution_count": 25
        }
      ]
    },
    {
      "cell_type": "code",
      "source": [
        "sorted(x.index)"
      ],
      "metadata": {
        "colab": {
          "base_uri": "https://localhost:8080/"
        },
        "id": "hfaayZDvt6mp",
        "outputId": "2dfc14d4-6a1c-4263-c7e2-1723aceb79b9"
      },
      "execution_count": null,
      "outputs": [
        {
          "output_type": "execute_result",
          "data": {
            "text/plain": [
              "['cat', 'dog', 'pandas', 'turtle']"
            ]
          },
          "metadata": {},
          "execution_count": 26
        }
      ]
    },
    {
      "cell_type": "code",
      "source": [
        "x.reindex(sorted(x.index))"
      ],
      "metadata": {
        "colab": {
          "base_uri": "https://localhost:8080/"
        },
        "id": "bmSNdJEduG1v",
        "outputId": "1a4155d1-2983-424f-b337-1eb30c8b2599"
      },
      "execution_count": null,
      "outputs": [
        {
          "output_type": "execute_result",
          "data": {
            "text/plain": [
              "cat       3\n",
              "dog       7\n",
              "pandas    5\n",
              "turtle    8\n",
              "dtype: int64"
            ]
          },
          "metadata": {},
          "execution_count": 27
        }
      ]
    },
    {
      "cell_type": "code",
      "source": [
        "x = pd.Series([7,3,5,8], index = ['dog','cat','pandas','turtle'])\n",
        "y = pd.Series([2,3,5,1], index = ['cat','pandas','dog','penguin'])"
      ],
      "metadata": {
        "id": "qPeWlnmbuL2b"
      },
      "execution_count": null,
      "outputs": []
    },
    {
      "cell_type": "code",
      "source": [
        "x+y ### x와 y의 공통된 index의 합을 계산해줌/공통된 index가 없다면 NaN으로 표기"
      ],
      "metadata": {
        "colab": {
          "base_uri": "https://localhost:8080/"
        },
        "id": "AsmZgCuKvDQO",
        "outputId": "9fca5023-b1d1-4afd-da8b-97b3933044b3"
      },
      "execution_count": null,
      "outputs": [
        {
          "output_type": "execute_result",
          "data": {
            "text/plain": [
              "cat         5.0\n",
              "dog        12.0\n",
              "pandas      8.0\n",
              "penguin     NaN\n",
              "turtle      NaN\n",
              "dtype: float64"
            ]
          },
          "metadata": {},
          "execution_count": 29
        }
      ]
    },
    {
      "cell_type": "code",
      "source": [
        "val = [1,3,2,4,2,3]\n",
        "x = pd.Series(val)\n",
        "pd.unique(x) ###Pandas series의 값중, 반복이 되면 나오는 순서대로 배열을 생성"
      ],
      "metadata": {
        "colab": {
          "base_uri": "https://localhost:8080/"
        },
        "id": "uo9yV-WsvE0M",
        "outputId": "924d7ed2-7efb-444e-90e1-96f3cbd2219e"
      },
      "execution_count": null,
      "outputs": [
        {
          "output_type": "execute_result",
          "data": {
            "text/plain": [
              "array([1, 3, 2, 4])"
            ]
          },
          "metadata": {},
          "execution_count": 30
        }
      ]
    },
    {
      "cell_type": "markdown",
      "source": [
        "key와 값으로 이루어진변수.\n",
        "민준,현우,서연,동헌은 key 23,43,12,45는 value 즉 key:value 꼴의 쌍으로 구성."
      ],
      "metadata": {
        "id": "RtJpGPw3xULn"
      }
    },
    {
      "cell_type": "code",
      "source": [
        "age = {'민준':23,'현우':43,'서연':12,'동헌':45}\n",
        "pdata = pd.Series(age)\n",
        "pdata"
      ],
      "metadata": {
        "colab": {
          "base_uri": "https://localhost:8080/"
        },
        "id": "I6FOIMIxv7jc",
        "outputId": "9e593ef9-d4a4-4474-a209-69556bbe4e86"
      },
      "execution_count": null,
      "outputs": [
        {
          "output_type": "execute_result",
          "data": {
            "text/plain": [
              "민준    23\n",
              "현우    43\n",
              "서연    12\n",
              "동헌    45\n",
              "dtype: int64"
            ]
          },
          "metadata": {},
          "execution_count": 33
        }
      ]
    },
    {
      "cell_type": "code",
      "source": [
        "names = ['민준','서연','현우','민사','동현','수빈']\n",
        "pdata = pd.Series(names)\n",
        "pdata"
      ],
      "metadata": {
        "colab": {
          "base_uri": "https://localhost:8080/"
        },
        "id": "gpW1rmrOxWdW",
        "outputId": "a8a5f736-2aae-4b67-d66b-b53ffcb88f09"
      },
      "execution_count": null,
      "outputs": [
        {
          "output_type": "execute_result",
          "data": {
            "text/plain": [
              "0    민준\n",
              "1    서연\n",
              "2    현우\n",
              "3    민사\n",
              "4    동현\n",
              "5    수빈\n",
              "dtype: object"
            ]
          },
          "metadata": {},
          "execution_count": 35
        }
      ]
    },
    {
      "cell_type": "code",
      "source": [
        "a=pdata[3:6]\n",
        "print(a)"
      ],
      "metadata": {
        "colab": {
          "base_uri": "https://localhost:8080/"
        },
        "id": "arJsP6B-zcYU",
        "outputId": "b773bb15-9908-49c5-8ba2-16b44c405b33"
      },
      "execution_count": null,
      "outputs": [
        {
          "output_type": "stream",
          "name": "stdout",
          "text": [
            "3    민사\n",
            "4    동현\n",
            "5    수빈\n",
            "dtype: object\n"
          ]
        }
      ]
    },
    {
      "cell_type": "markdown",
      "source": [
        "Pandas의 두 번째 형식은 DateFrame이다 (첫번째는 Series)\n",
        "DataFrame의 특징은, 2차원 배열의 개념을 갖고 있다는것.\n",
        " 즉, 행과 열로 구성됨, 일반적으로 열에 각각의 이름을 부여함"
      ],
      "metadata": {
        "id": "GqaAxIrz0ENN"
      }
    },
    {
      "cell_type": "code",
      "source": [
        "data = {'age' : [23,43,12,45], 'name':['민준','현우','서연','동현'], 'height':[175.3,180.3,165.8,172.7]}\n",
        "x = pd.DataFrame(data,columns = ['name','age','height'])\n",
        "x"
      ],
      "metadata": {
        "colab": {
          "base_uri": "https://localhost:8080/",
          "height": 175
        },
        "id": "mm0nM0oU0iH5",
        "outputId": "ae1d62c7-f8c7-4fc4-f2ee-76aee170cf56"
      },
      "execution_count": null,
      "outputs": [
        {
          "output_type": "execute_result",
          "data": {
            "text/plain": [
              "  name  age  height\n",
              "0   민준   23   175.3\n",
              "1   현우   43   180.3\n",
              "2   서연   12   165.8\n",
              "3   동현   45   172.7"
            ],
            "text/html": [
              "\n",
              "  <div id=\"df-70274c04-df99-4787-9800-cf728227ab34\">\n",
              "    <div class=\"colab-df-container\">\n",
              "      <div>\n",
              "<style scoped>\n",
              "    .dataframe tbody tr th:only-of-type {\n",
              "        vertical-align: middle;\n",
              "    }\n",
              "\n",
              "    .dataframe tbody tr th {\n",
              "        vertical-align: top;\n",
              "    }\n",
              "\n",
              "    .dataframe thead th {\n",
              "        text-align: right;\n",
              "    }\n",
              "</style>\n",
              "<table border=\"1\" class=\"dataframe\">\n",
              "  <thead>\n",
              "    <tr style=\"text-align: right;\">\n",
              "      <th></th>\n",
              "      <th>name</th>\n",
              "      <th>age</th>\n",
              "      <th>height</th>\n",
              "    </tr>\n",
              "  </thead>\n",
              "  <tbody>\n",
              "    <tr>\n",
              "      <th>0</th>\n",
              "      <td>민준</td>\n",
              "      <td>23</td>\n",
              "      <td>175.3</td>\n",
              "    </tr>\n",
              "    <tr>\n",
              "      <th>1</th>\n",
              "      <td>현우</td>\n",
              "      <td>43</td>\n",
              "      <td>180.3</td>\n",
              "    </tr>\n",
              "    <tr>\n",
              "      <th>2</th>\n",
              "      <td>서연</td>\n",
              "      <td>12</td>\n",
              "      <td>165.8</td>\n",
              "    </tr>\n",
              "    <tr>\n",
              "      <th>3</th>\n",
              "      <td>동현</td>\n",
              "      <td>45</td>\n",
              "      <td>172.7</td>\n",
              "    </tr>\n",
              "  </tbody>\n",
              "</table>\n",
              "</div>\n",
              "      <button class=\"colab-df-convert\" onclick=\"convertToInteractive('df-70274c04-df99-4787-9800-cf728227ab34')\"\n",
              "              title=\"Convert this dataframe to an interactive table.\"\n",
              "              style=\"display:none;\">\n",
              "        \n",
              "  <svg xmlns=\"http://www.w3.org/2000/svg\" height=\"24px\"viewBox=\"0 0 24 24\"\n",
              "       width=\"24px\">\n",
              "    <path d=\"M0 0h24v24H0V0z\" fill=\"none\"/>\n",
              "    <path d=\"M18.56 5.44l.94 2.06.94-2.06 2.06-.94-2.06-.94-.94-2.06-.94 2.06-2.06.94zm-11 1L8.5 8.5l.94-2.06 2.06-.94-2.06-.94L8.5 2.5l-.94 2.06-2.06.94zm10 10l.94 2.06.94-2.06 2.06-.94-2.06-.94-.94-2.06-.94 2.06-2.06.94z\"/><path d=\"M17.41 7.96l-1.37-1.37c-.4-.4-.92-.59-1.43-.59-.52 0-1.04.2-1.43.59L10.3 9.45l-7.72 7.72c-.78.78-.78 2.05 0 2.83L4 21.41c.39.39.9.59 1.41.59.51 0 1.02-.2 1.41-.59l7.78-7.78 2.81-2.81c.8-.78.8-2.07 0-2.86zM5.41 20L4 18.59l7.72-7.72 1.47 1.35L5.41 20z\"/>\n",
              "  </svg>\n",
              "      </button>\n",
              "      \n",
              "  <style>\n",
              "    .colab-df-container {\n",
              "      display:flex;\n",
              "      flex-wrap:wrap;\n",
              "      gap: 12px;\n",
              "    }\n",
              "\n",
              "    .colab-df-convert {\n",
              "      background-color: #E8F0FE;\n",
              "      border: none;\n",
              "      border-radius: 50%;\n",
              "      cursor: pointer;\n",
              "      display: none;\n",
              "      fill: #1967D2;\n",
              "      height: 32px;\n",
              "      padding: 0 0 0 0;\n",
              "      width: 32px;\n",
              "    }\n",
              "\n",
              "    .colab-df-convert:hover {\n",
              "      background-color: #E2EBFA;\n",
              "      box-shadow: 0px 1px 2px rgba(60, 64, 67, 0.3), 0px 1px 3px 1px rgba(60, 64, 67, 0.15);\n",
              "      fill: #174EA6;\n",
              "    }\n",
              "\n",
              "    [theme=dark] .colab-df-convert {\n",
              "      background-color: #3B4455;\n",
              "      fill: #D2E3FC;\n",
              "    }\n",
              "\n",
              "    [theme=dark] .colab-df-convert:hover {\n",
              "      background-color: #434B5C;\n",
              "      box-shadow: 0px 1px 3px 1px rgba(0, 0, 0, 0.15);\n",
              "      filter: drop-shadow(0px 1px 2px rgba(0, 0, 0, 0.3));\n",
              "      fill: #FFFFFF;\n",
              "    }\n",
              "  </style>\n",
              "\n",
              "      <script>\n",
              "        const buttonEl =\n",
              "          document.querySelector('#df-70274c04-df99-4787-9800-cf728227ab34 button.colab-df-convert');\n",
              "        buttonEl.style.display =\n",
              "          google.colab.kernel.accessAllowed ? 'block' : 'none';\n",
              "\n",
              "        async function convertToInteractive(key) {\n",
              "          const element = document.querySelector('#df-70274c04-df99-4787-9800-cf728227ab34');\n",
              "          const dataTable =\n",
              "            await google.colab.kernel.invokeFunction('convertToInteractive',\n",
              "                                                     [key], {});\n",
              "          if (!dataTable) return;\n",
              "\n",
              "          const docLinkHtml = 'Like what you see? Visit the ' +\n",
              "            '<a target=\"_blank\" href=https://colab.research.google.com/notebooks/data_table.ipynb>data table notebook</a>'\n",
              "            + ' to learn more about interactive tables.';\n",
              "          element.innerHTML = '';\n",
              "          dataTable['output_type'] = 'display_data';\n",
              "          await google.colab.output.renderOutput(dataTable, element);\n",
              "          const docLink = document.createElement('div');\n",
              "          docLink.innerHTML = docLinkHtml;\n",
              "          element.appendChild(docLink);\n",
              "        }\n",
              "      </script>\n",
              "    </div>\n",
              "  </div>\n",
              "  "
            ]
          },
          "metadata": {},
          "execution_count": 43
        }
      ]
    },
    {
      "cell_type": "code",
      "source": [
        "x.height"
      ],
      "metadata": {
        "colab": {
          "base_uri": "https://localhost:8080/"
        },
        "id": "mgGU1KUZ3Wv3",
        "outputId": "849e0bb0-9af6-4774-c8f2-5b6db08b61e7"
      },
      "execution_count": null,
      "outputs": [
        {
          "output_type": "execute_result",
          "data": {
            "text/plain": [
              "0    175.3\n",
              "1    180.3\n",
              "2    165.8\n",
              "3    172.7\n",
              "Name: height, dtype: float64"
            ]
          },
          "metadata": {},
          "execution_count": 44
        }
      ]
    },
    {
      "cell_type": "code",
      "source": [
        "ary = [[1,2],[3,4],[5,6]]\n",
        "data = pd.DataFrame(ary)\n",
        "data"
      ],
      "metadata": {
        "colab": {
          "base_uri": "https://localhost:8080/",
          "height": 143
        },
        "id": "vDDNuhNI4Nh4",
        "outputId": "1d993eb3-fbd9-49c6-e362-d1c23ed814f7"
      },
      "execution_count": null,
      "outputs": [
        {
          "output_type": "execute_result",
          "data": {
            "text/plain": [
              "   0  1\n",
              "0  1  2\n",
              "1  3  4\n",
              "2  5  6"
            ],
            "text/html": [
              "\n",
              "  <div id=\"df-2f464406-97f1-40c2-aed3-e252c164e692\">\n",
              "    <div class=\"colab-df-container\">\n",
              "      <div>\n",
              "<style scoped>\n",
              "    .dataframe tbody tr th:only-of-type {\n",
              "        vertical-align: middle;\n",
              "    }\n",
              "\n",
              "    .dataframe tbody tr th {\n",
              "        vertical-align: top;\n",
              "    }\n",
              "\n",
              "    .dataframe thead th {\n",
              "        text-align: right;\n",
              "    }\n",
              "</style>\n",
              "<table border=\"1\" class=\"dataframe\">\n",
              "  <thead>\n",
              "    <tr style=\"text-align: right;\">\n",
              "      <th></th>\n",
              "      <th>0</th>\n",
              "      <th>1</th>\n",
              "    </tr>\n",
              "  </thead>\n",
              "  <tbody>\n",
              "    <tr>\n",
              "      <th>0</th>\n",
              "      <td>1</td>\n",
              "      <td>2</td>\n",
              "    </tr>\n",
              "    <tr>\n",
              "      <th>1</th>\n",
              "      <td>3</td>\n",
              "      <td>4</td>\n",
              "    </tr>\n",
              "    <tr>\n",
              "      <th>2</th>\n",
              "      <td>5</td>\n",
              "      <td>6</td>\n",
              "    </tr>\n",
              "  </tbody>\n",
              "</table>\n",
              "</div>\n",
              "      <button class=\"colab-df-convert\" onclick=\"convertToInteractive('df-2f464406-97f1-40c2-aed3-e252c164e692')\"\n",
              "              title=\"Convert this dataframe to an interactive table.\"\n",
              "              style=\"display:none;\">\n",
              "        \n",
              "  <svg xmlns=\"http://www.w3.org/2000/svg\" height=\"24px\"viewBox=\"0 0 24 24\"\n",
              "       width=\"24px\">\n",
              "    <path d=\"M0 0h24v24H0V0z\" fill=\"none\"/>\n",
              "    <path d=\"M18.56 5.44l.94 2.06.94-2.06 2.06-.94-2.06-.94-.94-2.06-.94 2.06-2.06.94zm-11 1L8.5 8.5l.94-2.06 2.06-.94-2.06-.94L8.5 2.5l-.94 2.06-2.06.94zm10 10l.94 2.06.94-2.06 2.06-.94-2.06-.94-.94-2.06-.94 2.06-2.06.94z\"/><path d=\"M17.41 7.96l-1.37-1.37c-.4-.4-.92-.59-1.43-.59-.52 0-1.04.2-1.43.59L10.3 9.45l-7.72 7.72c-.78.78-.78 2.05 0 2.83L4 21.41c.39.39.9.59 1.41.59.51 0 1.02-.2 1.41-.59l7.78-7.78 2.81-2.81c.8-.78.8-2.07 0-2.86zM5.41 20L4 18.59l7.72-7.72 1.47 1.35L5.41 20z\"/>\n",
              "  </svg>\n",
              "      </button>\n",
              "      \n",
              "  <style>\n",
              "    .colab-df-container {\n",
              "      display:flex;\n",
              "      flex-wrap:wrap;\n",
              "      gap: 12px;\n",
              "    }\n",
              "\n",
              "    .colab-df-convert {\n",
              "      background-color: #E8F0FE;\n",
              "      border: none;\n",
              "      border-radius: 50%;\n",
              "      cursor: pointer;\n",
              "      display: none;\n",
              "      fill: #1967D2;\n",
              "      height: 32px;\n",
              "      padding: 0 0 0 0;\n",
              "      width: 32px;\n",
              "    }\n",
              "\n",
              "    .colab-df-convert:hover {\n",
              "      background-color: #E2EBFA;\n",
              "      box-shadow: 0px 1px 2px rgba(60, 64, 67, 0.3), 0px 1px 3px 1px rgba(60, 64, 67, 0.15);\n",
              "      fill: #174EA6;\n",
              "    }\n",
              "\n",
              "    [theme=dark] .colab-df-convert {\n",
              "      background-color: #3B4455;\n",
              "      fill: #D2E3FC;\n",
              "    }\n",
              "\n",
              "    [theme=dark] .colab-df-convert:hover {\n",
              "      background-color: #434B5C;\n",
              "      box-shadow: 0px 1px 3px 1px rgba(0, 0, 0, 0.15);\n",
              "      filter: drop-shadow(0px 1px 2px rgba(0, 0, 0, 0.3));\n",
              "      fill: #FFFFFF;\n",
              "    }\n",
              "  </style>\n",
              "\n",
              "      <script>\n",
              "        const buttonEl =\n",
              "          document.querySelector('#df-2f464406-97f1-40c2-aed3-e252c164e692 button.colab-df-convert');\n",
              "        buttonEl.style.display =\n",
              "          google.colab.kernel.accessAllowed ? 'block' : 'none';\n",
              "\n",
              "        async function convertToInteractive(key) {\n",
              "          const element = document.querySelector('#df-2f464406-97f1-40c2-aed3-e252c164e692');\n",
              "          const dataTable =\n",
              "            await google.colab.kernel.invokeFunction('convertToInteractive',\n",
              "                                                     [key], {});\n",
              "          if (!dataTable) return;\n",
              "\n",
              "          const docLinkHtml = 'Like what you see? Visit the ' +\n",
              "            '<a target=\"_blank\" href=https://colab.research.google.com/notebooks/data_table.ipynb>data table notebook</a>'\n",
              "            + ' to learn more about interactive tables.';\n",
              "          element.innerHTML = '';\n",
              "          dataTable['output_type'] = 'display_data';\n",
              "          await google.colab.output.renderOutput(dataTable, element);\n",
              "          const docLink = document.createElement('div');\n",
              "          docLink.innerHTML = docLinkHtml;\n",
              "          element.appendChild(docLink);\n",
              "        }\n",
              "      </script>\n",
              "    </div>\n",
              "  </div>\n",
              "  "
            ]
          },
          "metadata": {},
          "execution_count": 45
        }
      ]
    },
    {
      "cell_type": "code",
      "source": [
        "ary = [[1,2],[3,4],[5,6]]\n",
        "data = pd.DataFrame(ary, columns=['First','second'])\n",
        "data"
      ],
      "metadata": {
        "colab": {
          "base_uri": "https://localhost:8080/",
          "height": 143
        },
        "id": "DUzQvPak6TFK",
        "outputId": "d95c184d-32c8-48f7-f324-e8a523b9ca8c"
      },
      "execution_count": null,
      "outputs": [
        {
          "output_type": "execute_result",
          "data": {
            "text/plain": [
              "   First  second\n",
              "0      1       2\n",
              "1      3       4\n",
              "2      5       6"
            ],
            "text/html": [
              "\n",
              "  <div id=\"df-53de8c24-c885-4aae-a10f-883926b4922b\">\n",
              "    <div class=\"colab-df-container\">\n",
              "      <div>\n",
              "<style scoped>\n",
              "    .dataframe tbody tr th:only-of-type {\n",
              "        vertical-align: middle;\n",
              "    }\n",
              "\n",
              "    .dataframe tbody tr th {\n",
              "        vertical-align: top;\n",
              "    }\n",
              "\n",
              "    .dataframe thead th {\n",
              "        text-align: right;\n",
              "    }\n",
              "</style>\n",
              "<table border=\"1\" class=\"dataframe\">\n",
              "  <thead>\n",
              "    <tr style=\"text-align: right;\">\n",
              "      <th></th>\n",
              "      <th>First</th>\n",
              "      <th>second</th>\n",
              "    </tr>\n",
              "  </thead>\n",
              "  <tbody>\n",
              "    <tr>\n",
              "      <th>0</th>\n",
              "      <td>1</td>\n",
              "      <td>2</td>\n",
              "    </tr>\n",
              "    <tr>\n",
              "      <th>1</th>\n",
              "      <td>3</td>\n",
              "      <td>4</td>\n",
              "    </tr>\n",
              "    <tr>\n",
              "      <th>2</th>\n",
              "      <td>5</td>\n",
              "      <td>6</td>\n",
              "    </tr>\n",
              "  </tbody>\n",
              "</table>\n",
              "</div>\n",
              "      <button class=\"colab-df-convert\" onclick=\"convertToInteractive('df-53de8c24-c885-4aae-a10f-883926b4922b')\"\n",
              "              title=\"Convert this dataframe to an interactive table.\"\n",
              "              style=\"display:none;\">\n",
              "        \n",
              "  <svg xmlns=\"http://www.w3.org/2000/svg\" height=\"24px\"viewBox=\"0 0 24 24\"\n",
              "       width=\"24px\">\n",
              "    <path d=\"M0 0h24v24H0V0z\" fill=\"none\"/>\n",
              "    <path d=\"M18.56 5.44l.94 2.06.94-2.06 2.06-.94-2.06-.94-.94-2.06-.94 2.06-2.06.94zm-11 1L8.5 8.5l.94-2.06 2.06-.94-2.06-.94L8.5 2.5l-.94 2.06-2.06.94zm10 10l.94 2.06.94-2.06 2.06-.94-2.06-.94-.94-2.06-.94 2.06-2.06.94z\"/><path d=\"M17.41 7.96l-1.37-1.37c-.4-.4-.92-.59-1.43-.59-.52 0-1.04.2-1.43.59L10.3 9.45l-7.72 7.72c-.78.78-.78 2.05 0 2.83L4 21.41c.39.39.9.59 1.41.59.51 0 1.02-.2 1.41-.59l7.78-7.78 2.81-2.81c.8-.78.8-2.07 0-2.86zM5.41 20L4 18.59l7.72-7.72 1.47 1.35L5.41 20z\"/>\n",
              "  </svg>\n",
              "      </button>\n",
              "      \n",
              "  <style>\n",
              "    .colab-df-container {\n",
              "      display:flex;\n",
              "      flex-wrap:wrap;\n",
              "      gap: 12px;\n",
              "    }\n",
              "\n",
              "    .colab-df-convert {\n",
              "      background-color: #E8F0FE;\n",
              "      border: none;\n",
              "      border-radius: 50%;\n",
              "      cursor: pointer;\n",
              "      display: none;\n",
              "      fill: #1967D2;\n",
              "      height: 32px;\n",
              "      padding: 0 0 0 0;\n",
              "      width: 32px;\n",
              "    }\n",
              "\n",
              "    .colab-df-convert:hover {\n",
              "      background-color: #E2EBFA;\n",
              "      box-shadow: 0px 1px 2px rgba(60, 64, 67, 0.3), 0px 1px 3px 1px rgba(60, 64, 67, 0.15);\n",
              "      fill: #174EA6;\n",
              "    }\n",
              "\n",
              "    [theme=dark] .colab-df-convert {\n",
              "      background-color: #3B4455;\n",
              "      fill: #D2E3FC;\n",
              "    }\n",
              "\n",
              "    [theme=dark] .colab-df-convert:hover {\n",
              "      background-color: #434B5C;\n",
              "      box-shadow: 0px 1px 3px 1px rgba(0, 0, 0, 0.15);\n",
              "      filter: drop-shadow(0px 1px 2px rgba(0, 0, 0, 0.3));\n",
              "      fill: #FFFFFF;\n",
              "    }\n",
              "  </style>\n",
              "\n",
              "      <script>\n",
              "        const buttonEl =\n",
              "          document.querySelector('#df-53de8c24-c885-4aae-a10f-883926b4922b button.colab-df-convert');\n",
              "        buttonEl.style.display =\n",
              "          google.colab.kernel.accessAllowed ? 'block' : 'none';\n",
              "\n",
              "        async function convertToInteractive(key) {\n",
              "          const element = document.querySelector('#df-53de8c24-c885-4aae-a10f-883926b4922b');\n",
              "          const dataTable =\n",
              "            await google.colab.kernel.invokeFunction('convertToInteractive',\n",
              "                                                     [key], {});\n",
              "          if (!dataTable) return;\n",
              "\n",
              "          const docLinkHtml = 'Like what you see? Visit the ' +\n",
              "            '<a target=\"_blank\" href=https://colab.research.google.com/notebooks/data_table.ipynb>data table notebook</a>'\n",
              "            + ' to learn more about interactive tables.';\n",
              "          element.innerHTML = '';\n",
              "          dataTable['output_type'] = 'display_data';\n",
              "          await google.colab.output.renderOutput(dataTable, element);\n",
              "          const docLink = document.createElement('div');\n",
              "          docLink.innerHTML = docLinkHtml;\n",
              "          element.appendChild(docLink);\n",
              "        }\n",
              "      </script>\n",
              "    </div>\n",
              "  </div>\n",
              "  "
            ]
          },
          "metadata": {},
          "execution_count": 46
        }
      ]
    },
    {
      "cell_type": "code",
      "source": [
        "data.iloc[2] ### data의 특정 행의 값을 출력"
      ],
      "metadata": {
        "colab": {
          "base_uri": "https://localhost:8080/"
        },
        "id": "eOkgRdon6cvr",
        "outputId": "9e23536e-65d7-4991-e276-d9a58ce32df5"
      },
      "execution_count": null,
      "outputs": [
        {
          "output_type": "execute_result",
          "data": {
            "text/plain": [
              "First     5\n",
              "second    6\n",
              "Name: 2, dtype: int64"
            ]
          },
          "metadata": {},
          "execution_count": 48
        }
      ]
    },
    {
      "cell_type": "code",
      "source": [
        "data.iloc[:,0]"
      ],
      "metadata": {
        "colab": {
          "base_uri": "https://localhost:8080/"
        },
        "id": "xQKC1NNt6wHv",
        "outputId": "75a6805a-e89e-455c-846a-2182b71791f4"
      },
      "execution_count": null,
      "outputs": [
        {
          "output_type": "execute_result",
          "data": {
            "text/plain": [
              "0    1\n",
              "1    3\n",
              "2    5\n",
              "Name: First, dtype: int64"
            ]
          },
          "metadata": {},
          "execution_count": 51
        }
      ]
    },
    {
      "cell_type": "code",
      "source": [
        "data.iloc[:,1]"
      ],
      "metadata": {
        "colab": {
          "base_uri": "https://localhost:8080/"
        },
        "id": "MzfzDGT_7O7B",
        "outputId": "db74ecea-5270-444f-d847-174e6feb8567"
      },
      "execution_count": null,
      "outputs": [
        {
          "output_type": "execute_result",
          "data": {
            "text/plain": [
              "0    2\n",
              "1    4\n",
              "2    6\n",
              "Name: second, dtype: int64"
            ]
          },
          "metadata": {},
          "execution_count": 52
        }
      ]
    },
    {
      "cell_type": "code",
      "source": [
        "ary = [[1,2],[3,4],[5,6],[7,8],[9,10],[11,12],[13,14]]\n",
        "data = pd.DataFrame(ary, columns=['First','Second'])\n",
        "data"
      ],
      "metadata": {
        "colab": {
          "base_uri": "https://localhost:8080/",
          "height": 269
        },
        "id": "JxXJ8cKl7kf4",
        "outputId": "ed3bf079-2256-42d2-d9b2-3d85e29917e9"
      },
      "execution_count": null,
      "outputs": [
        {
          "output_type": "execute_result",
          "data": {
            "text/plain": [
              "   First  Second\n",
              "0      1       2\n",
              "1      3       4\n",
              "2      5       6\n",
              "3      7       8\n",
              "4      9      10\n",
              "5     11      12\n",
              "6     13      14"
            ],
            "text/html": [
              "\n",
              "  <div id=\"df-ed6c4927-d2c4-476e-8bd9-bbb2030dcbce\">\n",
              "    <div class=\"colab-df-container\">\n",
              "      <div>\n",
              "<style scoped>\n",
              "    .dataframe tbody tr th:only-of-type {\n",
              "        vertical-align: middle;\n",
              "    }\n",
              "\n",
              "    .dataframe tbody tr th {\n",
              "        vertical-align: top;\n",
              "    }\n",
              "\n",
              "    .dataframe thead th {\n",
              "        text-align: right;\n",
              "    }\n",
              "</style>\n",
              "<table border=\"1\" class=\"dataframe\">\n",
              "  <thead>\n",
              "    <tr style=\"text-align: right;\">\n",
              "      <th></th>\n",
              "      <th>First</th>\n",
              "      <th>Second</th>\n",
              "    </tr>\n",
              "  </thead>\n",
              "  <tbody>\n",
              "    <tr>\n",
              "      <th>0</th>\n",
              "      <td>1</td>\n",
              "      <td>2</td>\n",
              "    </tr>\n",
              "    <tr>\n",
              "      <th>1</th>\n",
              "      <td>3</td>\n",
              "      <td>4</td>\n",
              "    </tr>\n",
              "    <tr>\n",
              "      <th>2</th>\n",
              "      <td>5</td>\n",
              "      <td>6</td>\n",
              "    </tr>\n",
              "    <tr>\n",
              "      <th>3</th>\n",
              "      <td>7</td>\n",
              "      <td>8</td>\n",
              "    </tr>\n",
              "    <tr>\n",
              "      <th>4</th>\n",
              "      <td>9</td>\n",
              "      <td>10</td>\n",
              "    </tr>\n",
              "    <tr>\n",
              "      <th>5</th>\n",
              "      <td>11</td>\n",
              "      <td>12</td>\n",
              "    </tr>\n",
              "    <tr>\n",
              "      <th>6</th>\n",
              "      <td>13</td>\n",
              "      <td>14</td>\n",
              "    </tr>\n",
              "  </tbody>\n",
              "</table>\n",
              "</div>\n",
              "      <button class=\"colab-df-convert\" onclick=\"convertToInteractive('df-ed6c4927-d2c4-476e-8bd9-bbb2030dcbce')\"\n",
              "              title=\"Convert this dataframe to an interactive table.\"\n",
              "              style=\"display:none;\">\n",
              "        \n",
              "  <svg xmlns=\"http://www.w3.org/2000/svg\" height=\"24px\"viewBox=\"0 0 24 24\"\n",
              "       width=\"24px\">\n",
              "    <path d=\"M0 0h24v24H0V0z\" fill=\"none\"/>\n",
              "    <path d=\"M18.56 5.44l.94 2.06.94-2.06 2.06-.94-2.06-.94-.94-2.06-.94 2.06-2.06.94zm-11 1L8.5 8.5l.94-2.06 2.06-.94-2.06-.94L8.5 2.5l-.94 2.06-2.06.94zm10 10l.94 2.06.94-2.06 2.06-.94-2.06-.94-.94-2.06-.94 2.06-2.06.94z\"/><path d=\"M17.41 7.96l-1.37-1.37c-.4-.4-.92-.59-1.43-.59-.52 0-1.04.2-1.43.59L10.3 9.45l-7.72 7.72c-.78.78-.78 2.05 0 2.83L4 21.41c.39.39.9.59 1.41.59.51 0 1.02-.2 1.41-.59l7.78-7.78 2.81-2.81c.8-.78.8-2.07 0-2.86zM5.41 20L4 18.59l7.72-7.72 1.47 1.35L5.41 20z\"/>\n",
              "  </svg>\n",
              "      </button>\n",
              "      \n",
              "  <style>\n",
              "    .colab-df-container {\n",
              "      display:flex;\n",
              "      flex-wrap:wrap;\n",
              "      gap: 12px;\n",
              "    }\n",
              "\n",
              "    .colab-df-convert {\n",
              "      background-color: #E8F0FE;\n",
              "      border: none;\n",
              "      border-radius: 50%;\n",
              "      cursor: pointer;\n",
              "      display: none;\n",
              "      fill: #1967D2;\n",
              "      height: 32px;\n",
              "      padding: 0 0 0 0;\n",
              "      width: 32px;\n",
              "    }\n",
              "\n",
              "    .colab-df-convert:hover {\n",
              "      background-color: #E2EBFA;\n",
              "      box-shadow: 0px 1px 2px rgba(60, 64, 67, 0.3), 0px 1px 3px 1px rgba(60, 64, 67, 0.15);\n",
              "      fill: #174EA6;\n",
              "    }\n",
              "\n",
              "    [theme=dark] .colab-df-convert {\n",
              "      background-color: #3B4455;\n",
              "      fill: #D2E3FC;\n",
              "    }\n",
              "\n",
              "    [theme=dark] .colab-df-convert:hover {\n",
              "      background-color: #434B5C;\n",
              "      box-shadow: 0px 1px 3px 1px rgba(0, 0, 0, 0.15);\n",
              "      filter: drop-shadow(0px 1px 2px rgba(0, 0, 0, 0.3));\n",
              "      fill: #FFFFFF;\n",
              "    }\n",
              "  </style>\n",
              "\n",
              "      <script>\n",
              "        const buttonEl =\n",
              "          document.querySelector('#df-ed6c4927-d2c4-476e-8bd9-bbb2030dcbce button.colab-df-convert');\n",
              "        buttonEl.style.display =\n",
              "          google.colab.kernel.accessAllowed ? 'block' : 'none';\n",
              "\n",
              "        async function convertToInteractive(key) {\n",
              "          const element = document.querySelector('#df-ed6c4927-d2c4-476e-8bd9-bbb2030dcbce');\n",
              "          const dataTable =\n",
              "            await google.colab.kernel.invokeFunction('convertToInteractive',\n",
              "                                                     [key], {});\n",
              "          if (!dataTable) return;\n",
              "\n",
              "          const docLinkHtml = 'Like what you see? Visit the ' +\n",
              "            '<a target=\"_blank\" href=https://colab.research.google.com/notebooks/data_table.ipynb>data table notebook</a>'\n",
              "            + ' to learn more about interactive tables.';\n",
              "          element.innerHTML = '';\n",
              "          dataTable['output_type'] = 'display_data';\n",
              "          await google.colab.output.renderOutput(dataTable, element);\n",
              "          const docLink = document.createElement('div');\n",
              "          docLink.innerHTML = docLinkHtml;\n",
              "          element.appendChild(docLink);\n",
              "        }\n",
              "      </script>\n",
              "    </div>\n",
              "  </div>\n",
              "  "
            ]
          },
          "metadata": {},
          "execution_count": 53
        }
      ]
    },
    {
      "cell_type": "code",
      "source": [
        "data.head() ###첫 다섯 행출력"
      ],
      "metadata": {
        "colab": {
          "base_uri": "https://localhost:8080/",
          "height": 206
        },
        "id": "UhnS3p3q8Mtu",
        "outputId": "76daa8a2-3a03-4253-a46d-7338d84ad510"
      },
      "execution_count": null,
      "outputs": [
        {
          "output_type": "execute_result",
          "data": {
            "text/plain": [
              "   First  Second\n",
              "0      1       2\n",
              "1      3       4\n",
              "2      5       6\n",
              "3      7       8\n",
              "4      9      10"
            ],
            "text/html": [
              "\n",
              "  <div id=\"df-5d26d23f-5a4b-474e-96d2-79ef93c22e06\">\n",
              "    <div class=\"colab-df-container\">\n",
              "      <div>\n",
              "<style scoped>\n",
              "    .dataframe tbody tr th:only-of-type {\n",
              "        vertical-align: middle;\n",
              "    }\n",
              "\n",
              "    .dataframe tbody tr th {\n",
              "        vertical-align: top;\n",
              "    }\n",
              "\n",
              "    .dataframe thead th {\n",
              "        text-align: right;\n",
              "    }\n",
              "</style>\n",
              "<table border=\"1\" class=\"dataframe\">\n",
              "  <thead>\n",
              "    <tr style=\"text-align: right;\">\n",
              "      <th></th>\n",
              "      <th>First</th>\n",
              "      <th>Second</th>\n",
              "    </tr>\n",
              "  </thead>\n",
              "  <tbody>\n",
              "    <tr>\n",
              "      <th>0</th>\n",
              "      <td>1</td>\n",
              "      <td>2</td>\n",
              "    </tr>\n",
              "    <tr>\n",
              "      <th>1</th>\n",
              "      <td>3</td>\n",
              "      <td>4</td>\n",
              "    </tr>\n",
              "    <tr>\n",
              "      <th>2</th>\n",
              "      <td>5</td>\n",
              "      <td>6</td>\n",
              "    </tr>\n",
              "    <tr>\n",
              "      <th>3</th>\n",
              "      <td>7</td>\n",
              "      <td>8</td>\n",
              "    </tr>\n",
              "    <tr>\n",
              "      <th>4</th>\n",
              "      <td>9</td>\n",
              "      <td>10</td>\n",
              "    </tr>\n",
              "  </tbody>\n",
              "</table>\n",
              "</div>\n",
              "      <button class=\"colab-df-convert\" onclick=\"convertToInteractive('df-5d26d23f-5a4b-474e-96d2-79ef93c22e06')\"\n",
              "              title=\"Convert this dataframe to an interactive table.\"\n",
              "              style=\"display:none;\">\n",
              "        \n",
              "  <svg xmlns=\"http://www.w3.org/2000/svg\" height=\"24px\"viewBox=\"0 0 24 24\"\n",
              "       width=\"24px\">\n",
              "    <path d=\"M0 0h24v24H0V0z\" fill=\"none\"/>\n",
              "    <path d=\"M18.56 5.44l.94 2.06.94-2.06 2.06-.94-2.06-.94-.94-2.06-.94 2.06-2.06.94zm-11 1L8.5 8.5l.94-2.06 2.06-.94-2.06-.94L8.5 2.5l-.94 2.06-2.06.94zm10 10l.94 2.06.94-2.06 2.06-.94-2.06-.94-.94-2.06-.94 2.06-2.06.94z\"/><path d=\"M17.41 7.96l-1.37-1.37c-.4-.4-.92-.59-1.43-.59-.52 0-1.04.2-1.43.59L10.3 9.45l-7.72 7.72c-.78.78-.78 2.05 0 2.83L4 21.41c.39.39.9.59 1.41.59.51 0 1.02-.2 1.41-.59l7.78-7.78 2.81-2.81c.8-.78.8-2.07 0-2.86zM5.41 20L4 18.59l7.72-7.72 1.47 1.35L5.41 20z\"/>\n",
              "  </svg>\n",
              "      </button>\n",
              "      \n",
              "  <style>\n",
              "    .colab-df-container {\n",
              "      display:flex;\n",
              "      flex-wrap:wrap;\n",
              "      gap: 12px;\n",
              "    }\n",
              "\n",
              "    .colab-df-convert {\n",
              "      background-color: #E8F0FE;\n",
              "      border: none;\n",
              "      border-radius: 50%;\n",
              "      cursor: pointer;\n",
              "      display: none;\n",
              "      fill: #1967D2;\n",
              "      height: 32px;\n",
              "      padding: 0 0 0 0;\n",
              "      width: 32px;\n",
              "    }\n",
              "\n",
              "    .colab-df-convert:hover {\n",
              "      background-color: #E2EBFA;\n",
              "      box-shadow: 0px 1px 2px rgba(60, 64, 67, 0.3), 0px 1px 3px 1px rgba(60, 64, 67, 0.15);\n",
              "      fill: #174EA6;\n",
              "    }\n",
              "\n",
              "    [theme=dark] .colab-df-convert {\n",
              "      background-color: #3B4455;\n",
              "      fill: #D2E3FC;\n",
              "    }\n",
              "\n",
              "    [theme=dark] .colab-df-convert:hover {\n",
              "      background-color: #434B5C;\n",
              "      box-shadow: 0px 1px 3px 1px rgba(0, 0, 0, 0.15);\n",
              "      filter: drop-shadow(0px 1px 2px rgba(0, 0, 0, 0.3));\n",
              "      fill: #FFFFFF;\n",
              "    }\n",
              "  </style>\n",
              "\n",
              "      <script>\n",
              "        const buttonEl =\n",
              "          document.querySelector('#df-5d26d23f-5a4b-474e-96d2-79ef93c22e06 button.colab-df-convert');\n",
              "        buttonEl.style.display =\n",
              "          google.colab.kernel.accessAllowed ? 'block' : 'none';\n",
              "\n",
              "        async function convertToInteractive(key) {\n",
              "          const element = document.querySelector('#df-5d26d23f-5a4b-474e-96d2-79ef93c22e06');\n",
              "          const dataTable =\n",
              "            await google.colab.kernel.invokeFunction('convertToInteractive',\n",
              "                                                     [key], {});\n",
              "          if (!dataTable) return;\n",
              "\n",
              "          const docLinkHtml = 'Like what you see? Visit the ' +\n",
              "            '<a target=\"_blank\" href=https://colab.research.google.com/notebooks/data_table.ipynb>data table notebook</a>'\n",
              "            + ' to learn more about interactive tables.';\n",
              "          element.innerHTML = '';\n",
              "          dataTable['output_type'] = 'display_data';\n",
              "          await google.colab.output.renderOutput(dataTable, element);\n",
              "          const docLink = document.createElement('div');\n",
              "          docLink.innerHTML = docLinkHtml;\n",
              "          element.appendChild(docLink);\n",
              "        }\n",
              "      </script>\n",
              "    </div>\n",
              "  </div>\n",
              "  "
            ]
          },
          "metadata": {},
          "execution_count": 54
        }
      ]
    },
    {
      "cell_type": "code",
      "source": [
        "data.tail() ### 마지막 다섯 개의 행"
      ],
      "metadata": {
        "colab": {
          "base_uri": "https://localhost:8080/",
          "height": 206
        },
        "id": "skAe5wEW8O7r",
        "outputId": "10c7db86-5a70-4677-e6b7-331a9d8b220e"
      },
      "execution_count": null,
      "outputs": [
        {
          "output_type": "execute_result",
          "data": {
            "text/plain": [
              "   First  Second\n",
              "2      5       6\n",
              "3      7       8\n",
              "4      9      10\n",
              "5     11      12\n",
              "6     13      14"
            ],
            "text/html": [
              "\n",
              "  <div id=\"df-26159d65-aa1a-4b25-8451-6bc84a398699\">\n",
              "    <div class=\"colab-df-container\">\n",
              "      <div>\n",
              "<style scoped>\n",
              "    .dataframe tbody tr th:only-of-type {\n",
              "        vertical-align: middle;\n",
              "    }\n",
              "\n",
              "    .dataframe tbody tr th {\n",
              "        vertical-align: top;\n",
              "    }\n",
              "\n",
              "    .dataframe thead th {\n",
              "        text-align: right;\n",
              "    }\n",
              "</style>\n",
              "<table border=\"1\" class=\"dataframe\">\n",
              "  <thead>\n",
              "    <tr style=\"text-align: right;\">\n",
              "      <th></th>\n",
              "      <th>First</th>\n",
              "      <th>Second</th>\n",
              "    </tr>\n",
              "  </thead>\n",
              "  <tbody>\n",
              "    <tr>\n",
              "      <th>2</th>\n",
              "      <td>5</td>\n",
              "      <td>6</td>\n",
              "    </tr>\n",
              "    <tr>\n",
              "      <th>3</th>\n",
              "      <td>7</td>\n",
              "      <td>8</td>\n",
              "    </tr>\n",
              "    <tr>\n",
              "      <th>4</th>\n",
              "      <td>9</td>\n",
              "      <td>10</td>\n",
              "    </tr>\n",
              "    <tr>\n",
              "      <th>5</th>\n",
              "      <td>11</td>\n",
              "      <td>12</td>\n",
              "    </tr>\n",
              "    <tr>\n",
              "      <th>6</th>\n",
              "      <td>13</td>\n",
              "      <td>14</td>\n",
              "    </tr>\n",
              "  </tbody>\n",
              "</table>\n",
              "</div>\n",
              "      <button class=\"colab-df-convert\" onclick=\"convertToInteractive('df-26159d65-aa1a-4b25-8451-6bc84a398699')\"\n",
              "              title=\"Convert this dataframe to an interactive table.\"\n",
              "              style=\"display:none;\">\n",
              "        \n",
              "  <svg xmlns=\"http://www.w3.org/2000/svg\" height=\"24px\"viewBox=\"0 0 24 24\"\n",
              "       width=\"24px\">\n",
              "    <path d=\"M0 0h24v24H0V0z\" fill=\"none\"/>\n",
              "    <path d=\"M18.56 5.44l.94 2.06.94-2.06 2.06-.94-2.06-.94-.94-2.06-.94 2.06-2.06.94zm-11 1L8.5 8.5l.94-2.06 2.06-.94-2.06-.94L8.5 2.5l-.94 2.06-2.06.94zm10 10l.94 2.06.94-2.06 2.06-.94-2.06-.94-.94-2.06-.94 2.06-2.06.94z\"/><path d=\"M17.41 7.96l-1.37-1.37c-.4-.4-.92-.59-1.43-.59-.52 0-1.04.2-1.43.59L10.3 9.45l-7.72 7.72c-.78.78-.78 2.05 0 2.83L4 21.41c.39.39.9.59 1.41.59.51 0 1.02-.2 1.41-.59l7.78-7.78 2.81-2.81c.8-.78.8-2.07 0-2.86zM5.41 20L4 18.59l7.72-7.72 1.47 1.35L5.41 20z\"/>\n",
              "  </svg>\n",
              "      </button>\n",
              "      \n",
              "  <style>\n",
              "    .colab-df-container {\n",
              "      display:flex;\n",
              "      flex-wrap:wrap;\n",
              "      gap: 12px;\n",
              "    }\n",
              "\n",
              "    .colab-df-convert {\n",
              "      background-color: #E8F0FE;\n",
              "      border: none;\n",
              "      border-radius: 50%;\n",
              "      cursor: pointer;\n",
              "      display: none;\n",
              "      fill: #1967D2;\n",
              "      height: 32px;\n",
              "      padding: 0 0 0 0;\n",
              "      width: 32px;\n",
              "    }\n",
              "\n",
              "    .colab-df-convert:hover {\n",
              "      background-color: #E2EBFA;\n",
              "      box-shadow: 0px 1px 2px rgba(60, 64, 67, 0.3), 0px 1px 3px 1px rgba(60, 64, 67, 0.15);\n",
              "      fill: #174EA6;\n",
              "    }\n",
              "\n",
              "    [theme=dark] .colab-df-convert {\n",
              "      background-color: #3B4455;\n",
              "      fill: #D2E3FC;\n",
              "    }\n",
              "\n",
              "    [theme=dark] .colab-df-convert:hover {\n",
              "      background-color: #434B5C;\n",
              "      box-shadow: 0px 1px 3px 1px rgba(0, 0, 0, 0.15);\n",
              "      filter: drop-shadow(0px 1px 2px rgba(0, 0, 0, 0.3));\n",
              "      fill: #FFFFFF;\n",
              "    }\n",
              "  </style>\n",
              "\n",
              "      <script>\n",
              "        const buttonEl =\n",
              "          document.querySelector('#df-26159d65-aa1a-4b25-8451-6bc84a398699 button.colab-df-convert');\n",
              "        buttonEl.style.display =\n",
              "          google.colab.kernel.accessAllowed ? 'block' : 'none';\n",
              "\n",
              "        async function convertToInteractive(key) {\n",
              "          const element = document.querySelector('#df-26159d65-aa1a-4b25-8451-6bc84a398699');\n",
              "          const dataTable =\n",
              "            await google.colab.kernel.invokeFunction('convertToInteractive',\n",
              "                                                     [key], {});\n",
              "          if (!dataTable) return;\n",
              "\n",
              "          const docLinkHtml = 'Like what you see? Visit the ' +\n",
              "            '<a target=\"_blank\" href=https://colab.research.google.com/notebooks/data_table.ipynb>data table notebook</a>'\n",
              "            + ' to learn more about interactive tables.';\n",
              "          element.innerHTML = '';\n",
              "          dataTable['output_type'] = 'display_data';\n",
              "          await google.colab.output.renderOutput(dataTable, element);\n",
              "          const docLink = document.createElement('div');\n",
              "          docLink.innerHTML = docLinkHtml;\n",
              "          element.appendChild(docLink);\n",
              "        }\n",
              "      </script>\n",
              "    </div>\n",
              "  </div>\n",
              "  "
            ]
          },
          "metadata": {},
          "execution_count": 55
        }
      ]
    },
    {
      "cell_type": "code",
      "source": [
        "data.tail(3)"
      ],
      "metadata": {
        "colab": {
          "base_uri": "https://localhost:8080/",
          "height": 143
        },
        "id": "ISe6mEBN8gGK",
        "outputId": "9a77f47b-b15f-4490-c1bc-9f5ce60cb2f7"
      },
      "execution_count": null,
      "outputs": [
        {
          "output_type": "execute_result",
          "data": {
            "text/plain": [
              "   First  Second\n",
              "4      9      10\n",
              "5     11      12\n",
              "6     13      14"
            ],
            "text/html": [
              "\n",
              "  <div id=\"df-8b74b141-b997-497b-88c4-38b4a62f437f\">\n",
              "    <div class=\"colab-df-container\">\n",
              "      <div>\n",
              "<style scoped>\n",
              "    .dataframe tbody tr th:only-of-type {\n",
              "        vertical-align: middle;\n",
              "    }\n",
              "\n",
              "    .dataframe tbody tr th {\n",
              "        vertical-align: top;\n",
              "    }\n",
              "\n",
              "    .dataframe thead th {\n",
              "        text-align: right;\n",
              "    }\n",
              "</style>\n",
              "<table border=\"1\" class=\"dataframe\">\n",
              "  <thead>\n",
              "    <tr style=\"text-align: right;\">\n",
              "      <th></th>\n",
              "      <th>First</th>\n",
              "      <th>Second</th>\n",
              "    </tr>\n",
              "  </thead>\n",
              "  <tbody>\n",
              "    <tr>\n",
              "      <th>4</th>\n",
              "      <td>9</td>\n",
              "      <td>10</td>\n",
              "    </tr>\n",
              "    <tr>\n",
              "      <th>5</th>\n",
              "      <td>11</td>\n",
              "      <td>12</td>\n",
              "    </tr>\n",
              "    <tr>\n",
              "      <th>6</th>\n",
              "      <td>13</td>\n",
              "      <td>14</td>\n",
              "    </tr>\n",
              "  </tbody>\n",
              "</table>\n",
              "</div>\n",
              "      <button class=\"colab-df-convert\" onclick=\"convertToInteractive('df-8b74b141-b997-497b-88c4-38b4a62f437f')\"\n",
              "              title=\"Convert this dataframe to an interactive table.\"\n",
              "              style=\"display:none;\">\n",
              "        \n",
              "  <svg xmlns=\"http://www.w3.org/2000/svg\" height=\"24px\"viewBox=\"0 0 24 24\"\n",
              "       width=\"24px\">\n",
              "    <path d=\"M0 0h24v24H0V0z\" fill=\"none\"/>\n",
              "    <path d=\"M18.56 5.44l.94 2.06.94-2.06 2.06-.94-2.06-.94-.94-2.06-.94 2.06-2.06.94zm-11 1L8.5 8.5l.94-2.06 2.06-.94-2.06-.94L8.5 2.5l-.94 2.06-2.06.94zm10 10l.94 2.06.94-2.06 2.06-.94-2.06-.94-.94-2.06-.94 2.06-2.06.94z\"/><path d=\"M17.41 7.96l-1.37-1.37c-.4-.4-.92-.59-1.43-.59-.52 0-1.04.2-1.43.59L10.3 9.45l-7.72 7.72c-.78.78-.78 2.05 0 2.83L4 21.41c.39.39.9.59 1.41.59.51 0 1.02-.2 1.41-.59l7.78-7.78 2.81-2.81c.8-.78.8-2.07 0-2.86zM5.41 20L4 18.59l7.72-7.72 1.47 1.35L5.41 20z\"/>\n",
              "  </svg>\n",
              "      </button>\n",
              "      \n",
              "  <style>\n",
              "    .colab-df-container {\n",
              "      display:flex;\n",
              "      flex-wrap:wrap;\n",
              "      gap: 12px;\n",
              "    }\n",
              "\n",
              "    .colab-df-convert {\n",
              "      background-color: #E8F0FE;\n",
              "      border: none;\n",
              "      border-radius: 50%;\n",
              "      cursor: pointer;\n",
              "      display: none;\n",
              "      fill: #1967D2;\n",
              "      height: 32px;\n",
              "      padding: 0 0 0 0;\n",
              "      width: 32px;\n",
              "    }\n",
              "\n",
              "    .colab-df-convert:hover {\n",
              "      background-color: #E2EBFA;\n",
              "      box-shadow: 0px 1px 2px rgba(60, 64, 67, 0.3), 0px 1px 3px 1px rgba(60, 64, 67, 0.15);\n",
              "      fill: #174EA6;\n",
              "    }\n",
              "\n",
              "    [theme=dark] .colab-df-convert {\n",
              "      background-color: #3B4455;\n",
              "      fill: #D2E3FC;\n",
              "    }\n",
              "\n",
              "    [theme=dark] .colab-df-convert:hover {\n",
              "      background-color: #434B5C;\n",
              "      box-shadow: 0px 1px 3px 1px rgba(0, 0, 0, 0.15);\n",
              "      filter: drop-shadow(0px 1px 2px rgba(0, 0, 0, 0.3));\n",
              "      fill: #FFFFFF;\n",
              "    }\n",
              "  </style>\n",
              "\n",
              "      <script>\n",
              "        const buttonEl =\n",
              "          document.querySelector('#df-8b74b141-b997-497b-88c4-38b4a62f437f button.colab-df-convert');\n",
              "        buttonEl.style.display =\n",
              "          google.colab.kernel.accessAllowed ? 'block' : 'none';\n",
              "\n",
              "        async function convertToInteractive(key) {\n",
              "          const element = document.querySelector('#df-8b74b141-b997-497b-88c4-38b4a62f437f');\n",
              "          const dataTable =\n",
              "            await google.colab.kernel.invokeFunction('convertToInteractive',\n",
              "                                                     [key], {});\n",
              "          if (!dataTable) return;\n",
              "\n",
              "          const docLinkHtml = 'Like what you see? Visit the ' +\n",
              "            '<a target=\"_blank\" href=https://colab.research.google.com/notebooks/data_table.ipynb>data table notebook</a>'\n",
              "            + ' to learn more about interactive tables.';\n",
              "          element.innerHTML = '';\n",
              "          dataTable['output_type'] = 'display_data';\n",
              "          await google.colab.output.renderOutput(dataTable, element);\n",
              "          const docLink = document.createElement('div');\n",
              "          docLink.innerHTML = docLinkHtml;\n",
              "          element.appendChild(docLink);\n",
              "        }\n",
              "      </script>\n",
              "    </div>\n",
              "  </div>\n",
              "  "
            ]
          },
          "metadata": {},
          "execution_count": 56
        }
      ]
    },
    {
      "cell_type": "code",
      "source": [
        "ary = [[1,2],[3,4],[5,6],[7,8],[9,10]]\n",
        "data = pd.DataFrame(ary, columns=['First', 'Second'])\n",
        "data"
      ],
      "metadata": {
        "colab": {
          "base_uri": "https://localhost:8080/",
          "height": 206
        },
        "id": "44S1Hslq-ujt",
        "outputId": "e2878c66-a0af-4972-ca8f-93c1b3753b7c"
      },
      "execution_count": null,
      "outputs": [
        {
          "output_type": "execute_result",
          "data": {
            "text/plain": [
              "   First  Second\n",
              "0      1       2\n",
              "1      3       4\n",
              "2      5       6\n",
              "3      7       8\n",
              "4      9      10"
            ],
            "text/html": [
              "\n",
              "  <div id=\"df-7f3c2f4b-eb89-4061-b389-abb9d10747d4\">\n",
              "    <div class=\"colab-df-container\">\n",
              "      <div>\n",
              "<style scoped>\n",
              "    .dataframe tbody tr th:only-of-type {\n",
              "        vertical-align: middle;\n",
              "    }\n",
              "\n",
              "    .dataframe tbody tr th {\n",
              "        vertical-align: top;\n",
              "    }\n",
              "\n",
              "    .dataframe thead th {\n",
              "        text-align: right;\n",
              "    }\n",
              "</style>\n",
              "<table border=\"1\" class=\"dataframe\">\n",
              "  <thead>\n",
              "    <tr style=\"text-align: right;\">\n",
              "      <th></th>\n",
              "      <th>First</th>\n",
              "      <th>Second</th>\n",
              "    </tr>\n",
              "  </thead>\n",
              "  <tbody>\n",
              "    <tr>\n",
              "      <th>0</th>\n",
              "      <td>1</td>\n",
              "      <td>2</td>\n",
              "    </tr>\n",
              "    <tr>\n",
              "      <th>1</th>\n",
              "      <td>3</td>\n",
              "      <td>4</td>\n",
              "    </tr>\n",
              "    <tr>\n",
              "      <th>2</th>\n",
              "      <td>5</td>\n",
              "      <td>6</td>\n",
              "    </tr>\n",
              "    <tr>\n",
              "      <th>3</th>\n",
              "      <td>7</td>\n",
              "      <td>8</td>\n",
              "    </tr>\n",
              "    <tr>\n",
              "      <th>4</th>\n",
              "      <td>9</td>\n",
              "      <td>10</td>\n",
              "    </tr>\n",
              "  </tbody>\n",
              "</table>\n",
              "</div>\n",
              "      <button class=\"colab-df-convert\" onclick=\"convertToInteractive('df-7f3c2f4b-eb89-4061-b389-abb9d10747d4')\"\n",
              "              title=\"Convert this dataframe to an interactive table.\"\n",
              "              style=\"display:none;\">\n",
              "        \n",
              "  <svg xmlns=\"http://www.w3.org/2000/svg\" height=\"24px\"viewBox=\"0 0 24 24\"\n",
              "       width=\"24px\">\n",
              "    <path d=\"M0 0h24v24H0V0z\" fill=\"none\"/>\n",
              "    <path d=\"M18.56 5.44l.94 2.06.94-2.06 2.06-.94-2.06-.94-.94-2.06-.94 2.06-2.06.94zm-11 1L8.5 8.5l.94-2.06 2.06-.94-2.06-.94L8.5 2.5l-.94 2.06-2.06.94zm10 10l.94 2.06.94-2.06 2.06-.94-2.06-.94-.94-2.06-.94 2.06-2.06.94z\"/><path d=\"M17.41 7.96l-1.37-1.37c-.4-.4-.92-.59-1.43-.59-.52 0-1.04.2-1.43.59L10.3 9.45l-7.72 7.72c-.78.78-.78 2.05 0 2.83L4 21.41c.39.39.9.59 1.41.59.51 0 1.02-.2 1.41-.59l7.78-7.78 2.81-2.81c.8-.78.8-2.07 0-2.86zM5.41 20L4 18.59l7.72-7.72 1.47 1.35L5.41 20z\"/>\n",
              "  </svg>\n",
              "      </button>\n",
              "      \n",
              "  <style>\n",
              "    .colab-df-container {\n",
              "      display:flex;\n",
              "      flex-wrap:wrap;\n",
              "      gap: 12px;\n",
              "    }\n",
              "\n",
              "    .colab-df-convert {\n",
              "      background-color: #E8F0FE;\n",
              "      border: none;\n",
              "      border-radius: 50%;\n",
              "      cursor: pointer;\n",
              "      display: none;\n",
              "      fill: #1967D2;\n",
              "      height: 32px;\n",
              "      padding: 0 0 0 0;\n",
              "      width: 32px;\n",
              "    }\n",
              "\n",
              "    .colab-df-convert:hover {\n",
              "      background-color: #E2EBFA;\n",
              "      box-shadow: 0px 1px 2px rgba(60, 64, 67, 0.3), 0px 1px 3px 1px rgba(60, 64, 67, 0.15);\n",
              "      fill: #174EA6;\n",
              "    }\n",
              "\n",
              "    [theme=dark] .colab-df-convert {\n",
              "      background-color: #3B4455;\n",
              "      fill: #D2E3FC;\n",
              "    }\n",
              "\n",
              "    [theme=dark] .colab-df-convert:hover {\n",
              "      background-color: #434B5C;\n",
              "      box-shadow: 0px 1px 3px 1px rgba(0, 0, 0, 0.15);\n",
              "      filter: drop-shadow(0px 1px 2px rgba(0, 0, 0, 0.3));\n",
              "      fill: #FFFFFF;\n",
              "    }\n",
              "  </style>\n",
              "\n",
              "      <script>\n",
              "        const buttonEl =\n",
              "          document.querySelector('#df-7f3c2f4b-eb89-4061-b389-abb9d10747d4 button.colab-df-convert');\n",
              "        buttonEl.style.display =\n",
              "          google.colab.kernel.accessAllowed ? 'block' : 'none';\n",
              "\n",
              "        async function convertToInteractive(key) {\n",
              "          const element = document.querySelector('#df-7f3c2f4b-eb89-4061-b389-abb9d10747d4');\n",
              "          const dataTable =\n",
              "            await google.colab.kernel.invokeFunction('convertToInteractive',\n",
              "                                                     [key], {});\n",
              "          if (!dataTable) return;\n",
              "\n",
              "          const docLinkHtml = 'Like what you see? Visit the ' +\n",
              "            '<a target=\"_blank\" href=https://colab.research.google.com/notebooks/data_table.ipynb>data table notebook</a>'\n",
              "            + ' to learn more about interactive tables.';\n",
              "          element.innerHTML = '';\n",
              "          dataTable['output_type'] = 'display_data';\n",
              "          await google.colab.output.renderOutput(dataTable, element);\n",
              "          const docLink = document.createElement('div');\n",
              "          docLink.innerHTML = docLinkHtml;\n",
              "          element.appendChild(docLink);\n",
              "        }\n",
              "      </script>\n",
              "    </div>\n",
              "  </div>\n",
              "  "
            ]
          },
          "metadata": {},
          "execution_count": 73
        }
      ]
    },
    {
      "cell_type": "code",
      "source": [
        "bools = [False, True, True, False, True]"
      ],
      "metadata": {
        "id": "iuqYig4f9F8p"
      },
      "execution_count": null,
      "outputs": []
    },
    {
      "cell_type": "code",
      "source": [
        "data[bools] ###bools의 True가 있는 1,2,4번째 행만 출력"
      ],
      "metadata": {
        "colab": {
          "base_uri": "https://localhost:8080/",
          "height": 143
        },
        "id": "aLfcap4d_Ay4",
        "outputId": "02e5a30d-79aa-4de5-c2fa-c46abb7e40a4"
      },
      "execution_count": null,
      "outputs": [
        {
          "output_type": "execute_result",
          "data": {
            "text/plain": [
              "   First  Second\n",
              "1      3       4\n",
              "2      5       6\n",
              "4      9      10"
            ],
            "text/html": [
              "\n",
              "  <div id=\"df-8d3c342f-9410-4dc9-a52a-cb9b036c694d\">\n",
              "    <div class=\"colab-df-container\">\n",
              "      <div>\n",
              "<style scoped>\n",
              "    .dataframe tbody tr th:only-of-type {\n",
              "        vertical-align: middle;\n",
              "    }\n",
              "\n",
              "    .dataframe tbody tr th {\n",
              "        vertical-align: top;\n",
              "    }\n",
              "\n",
              "    .dataframe thead th {\n",
              "        text-align: right;\n",
              "    }\n",
              "</style>\n",
              "<table border=\"1\" class=\"dataframe\">\n",
              "  <thead>\n",
              "    <tr style=\"text-align: right;\">\n",
              "      <th></th>\n",
              "      <th>First</th>\n",
              "      <th>Second</th>\n",
              "    </tr>\n",
              "  </thead>\n",
              "  <tbody>\n",
              "    <tr>\n",
              "      <th>1</th>\n",
              "      <td>3</td>\n",
              "      <td>4</td>\n",
              "    </tr>\n",
              "    <tr>\n",
              "      <th>2</th>\n",
              "      <td>5</td>\n",
              "      <td>6</td>\n",
              "    </tr>\n",
              "    <tr>\n",
              "      <th>4</th>\n",
              "      <td>9</td>\n",
              "      <td>10</td>\n",
              "    </tr>\n",
              "  </tbody>\n",
              "</table>\n",
              "</div>\n",
              "      <button class=\"colab-df-convert\" onclick=\"convertToInteractive('df-8d3c342f-9410-4dc9-a52a-cb9b036c694d')\"\n",
              "              title=\"Convert this dataframe to an interactive table.\"\n",
              "              style=\"display:none;\">\n",
              "        \n",
              "  <svg xmlns=\"http://www.w3.org/2000/svg\" height=\"24px\"viewBox=\"0 0 24 24\"\n",
              "       width=\"24px\">\n",
              "    <path d=\"M0 0h24v24H0V0z\" fill=\"none\"/>\n",
              "    <path d=\"M18.56 5.44l.94 2.06.94-2.06 2.06-.94-2.06-.94-.94-2.06-.94 2.06-2.06.94zm-11 1L8.5 8.5l.94-2.06 2.06-.94-2.06-.94L8.5 2.5l-.94 2.06-2.06.94zm10 10l.94 2.06.94-2.06 2.06-.94-2.06-.94-.94-2.06-.94 2.06-2.06.94z\"/><path d=\"M17.41 7.96l-1.37-1.37c-.4-.4-.92-.59-1.43-.59-.52 0-1.04.2-1.43.59L10.3 9.45l-7.72 7.72c-.78.78-.78 2.05 0 2.83L4 21.41c.39.39.9.59 1.41.59.51 0 1.02-.2 1.41-.59l7.78-7.78 2.81-2.81c.8-.78.8-2.07 0-2.86zM5.41 20L4 18.59l7.72-7.72 1.47 1.35L5.41 20z\"/>\n",
              "  </svg>\n",
              "      </button>\n",
              "      \n",
              "  <style>\n",
              "    .colab-df-container {\n",
              "      display:flex;\n",
              "      flex-wrap:wrap;\n",
              "      gap: 12px;\n",
              "    }\n",
              "\n",
              "    .colab-df-convert {\n",
              "      background-color: #E8F0FE;\n",
              "      border: none;\n",
              "      border-radius: 50%;\n",
              "      cursor: pointer;\n",
              "      display: none;\n",
              "      fill: #1967D2;\n",
              "      height: 32px;\n",
              "      padding: 0 0 0 0;\n",
              "      width: 32px;\n",
              "    }\n",
              "\n",
              "    .colab-df-convert:hover {\n",
              "      background-color: #E2EBFA;\n",
              "      box-shadow: 0px 1px 2px rgba(60, 64, 67, 0.3), 0px 1px 3px 1px rgba(60, 64, 67, 0.15);\n",
              "      fill: #174EA6;\n",
              "    }\n",
              "\n",
              "    [theme=dark] .colab-df-convert {\n",
              "      background-color: #3B4455;\n",
              "      fill: #D2E3FC;\n",
              "    }\n",
              "\n",
              "    [theme=dark] .colab-df-convert:hover {\n",
              "      background-color: #434B5C;\n",
              "      box-shadow: 0px 1px 3px 1px rgba(0, 0, 0, 0.15);\n",
              "      filter: drop-shadow(0px 1px 2px rgba(0, 0, 0, 0.3));\n",
              "      fill: #FFFFFF;\n",
              "    }\n",
              "  </style>\n",
              "\n",
              "      <script>\n",
              "        const buttonEl =\n",
              "          document.querySelector('#df-8d3c342f-9410-4dc9-a52a-cb9b036c694d button.colab-df-convert');\n",
              "        buttonEl.style.display =\n",
              "          google.colab.kernel.accessAllowed ? 'block' : 'none';\n",
              "\n",
              "        async function convertToInteractive(key) {\n",
              "          const element = document.querySelector('#df-8d3c342f-9410-4dc9-a52a-cb9b036c694d');\n",
              "          const dataTable =\n",
              "            await google.colab.kernel.invokeFunction('convertToInteractive',\n",
              "                                                     [key], {});\n",
              "          if (!dataTable) return;\n",
              "\n",
              "          const docLinkHtml = 'Like what you see? Visit the ' +\n",
              "            '<a target=\"_blank\" href=https://colab.research.google.com/notebooks/data_table.ipynb>data table notebook</a>'\n",
              "            + ' to learn more about interactive tables.';\n",
              "          element.innerHTML = '';\n",
              "          dataTable['output_type'] = 'display_data';\n",
              "          await google.colab.output.renderOutput(dataTable, element);\n",
              "          const docLink = document.createElement('div');\n",
              "          docLink.innerHTML = docLinkHtml;\n",
              "          element.appendChild(docLink);\n",
              "        }\n",
              "      </script>\n",
              "    </div>\n",
              "  </div>\n",
              "  "
            ]
          },
          "metadata": {},
          "execution_count": 76
        }
      ]
    },
    {
      "cell_type": "code",
      "source": [
        "data.Second[bools] ###Second column중 , bools의 True가 있는 1,2,4번째 행만 출력"
      ],
      "metadata": {
        "colab": {
          "base_uri": "https://localhost:8080/"
        },
        "id": "VzsRMi_J_GX6",
        "outputId": "14087599-3a60-4cde-8e51-175ffa37bd3e"
      },
      "execution_count": null,
      "outputs": [
        {
          "output_type": "execute_result",
          "data": {
            "text/plain": [
              "1     4\n",
              "2     6\n",
              "4    10\n",
              "Name: Second, dtype: int64"
            ]
          },
          "metadata": {},
          "execution_count": 78
        }
      ]
    },
    {
      "cell_type": "code",
      "source": [
        "data = {'age' : [23,43,12,45], 'name':['민준','현우','서연','동현'], 'height':[175.3,180.3,165.8,172.7]}\n",
        "x = pd.DataFrame(data,columns = ['name','age','height'])\n",
        "x"
      ],
      "metadata": {
        "colab": {
          "base_uri": "https://localhost:8080/",
          "height": 175
        },
        "id": "c_1akgytAAPN",
        "outputId": "d38f233c-aa08-4603-9742-60c3fc40d79a"
      },
      "execution_count": null,
      "outputs": [
        {
          "output_type": "execute_result",
          "data": {
            "text/plain": [
              "  name  age  height\n",
              "0   민준   23   175.3\n",
              "1   현우   43   180.3\n",
              "2   서연   12   165.8\n",
              "3   동현   45   172.7"
            ],
            "text/html": [
              "\n",
              "  <div id=\"df-ee075f39-8358-4796-b333-5a6219392a1d\">\n",
              "    <div class=\"colab-df-container\">\n",
              "      <div>\n",
              "<style scoped>\n",
              "    .dataframe tbody tr th:only-of-type {\n",
              "        vertical-align: middle;\n",
              "    }\n",
              "\n",
              "    .dataframe tbody tr th {\n",
              "        vertical-align: top;\n",
              "    }\n",
              "\n",
              "    .dataframe thead th {\n",
              "        text-align: right;\n",
              "    }\n",
              "</style>\n",
              "<table border=\"1\" class=\"dataframe\">\n",
              "  <thead>\n",
              "    <tr style=\"text-align: right;\">\n",
              "      <th></th>\n",
              "      <th>name</th>\n",
              "      <th>age</th>\n",
              "      <th>height</th>\n",
              "    </tr>\n",
              "  </thead>\n",
              "  <tbody>\n",
              "    <tr>\n",
              "      <th>0</th>\n",
              "      <td>민준</td>\n",
              "      <td>23</td>\n",
              "      <td>175.3</td>\n",
              "    </tr>\n",
              "    <tr>\n",
              "      <th>1</th>\n",
              "      <td>현우</td>\n",
              "      <td>43</td>\n",
              "      <td>180.3</td>\n",
              "    </tr>\n",
              "    <tr>\n",
              "      <th>2</th>\n",
              "      <td>서연</td>\n",
              "      <td>12</td>\n",
              "      <td>165.8</td>\n",
              "    </tr>\n",
              "    <tr>\n",
              "      <th>3</th>\n",
              "      <td>동현</td>\n",
              "      <td>45</td>\n",
              "      <td>172.7</td>\n",
              "    </tr>\n",
              "  </tbody>\n",
              "</table>\n",
              "</div>\n",
              "      <button class=\"colab-df-convert\" onclick=\"convertToInteractive('df-ee075f39-8358-4796-b333-5a6219392a1d')\"\n",
              "              title=\"Convert this dataframe to an interactive table.\"\n",
              "              style=\"display:none;\">\n",
              "        \n",
              "  <svg xmlns=\"http://www.w3.org/2000/svg\" height=\"24px\"viewBox=\"0 0 24 24\"\n",
              "       width=\"24px\">\n",
              "    <path d=\"M0 0h24v24H0V0z\" fill=\"none\"/>\n",
              "    <path d=\"M18.56 5.44l.94 2.06.94-2.06 2.06-.94-2.06-.94-.94-2.06-.94 2.06-2.06.94zm-11 1L8.5 8.5l.94-2.06 2.06-.94-2.06-.94L8.5 2.5l-.94 2.06-2.06.94zm10 10l.94 2.06.94-2.06 2.06-.94-2.06-.94-.94-2.06-.94 2.06-2.06.94z\"/><path d=\"M17.41 7.96l-1.37-1.37c-.4-.4-.92-.59-1.43-.59-.52 0-1.04.2-1.43.59L10.3 9.45l-7.72 7.72c-.78.78-.78 2.05 0 2.83L4 21.41c.39.39.9.59 1.41.59.51 0 1.02-.2 1.41-.59l7.78-7.78 2.81-2.81c.8-.78.8-2.07 0-2.86zM5.41 20L4 18.59l7.72-7.72 1.47 1.35L5.41 20z\"/>\n",
              "  </svg>\n",
              "      </button>\n",
              "      \n",
              "  <style>\n",
              "    .colab-df-container {\n",
              "      display:flex;\n",
              "      flex-wrap:wrap;\n",
              "      gap: 12px;\n",
              "    }\n",
              "\n",
              "    .colab-df-convert {\n",
              "      background-color: #E8F0FE;\n",
              "      border: none;\n",
              "      border-radius: 50%;\n",
              "      cursor: pointer;\n",
              "      display: none;\n",
              "      fill: #1967D2;\n",
              "      height: 32px;\n",
              "      padding: 0 0 0 0;\n",
              "      width: 32px;\n",
              "    }\n",
              "\n",
              "    .colab-df-convert:hover {\n",
              "      background-color: #E2EBFA;\n",
              "      box-shadow: 0px 1px 2px rgba(60, 64, 67, 0.3), 0px 1px 3px 1px rgba(60, 64, 67, 0.15);\n",
              "      fill: #174EA6;\n",
              "    }\n",
              "\n",
              "    [theme=dark] .colab-df-convert {\n",
              "      background-color: #3B4455;\n",
              "      fill: #D2E3FC;\n",
              "    }\n",
              "\n",
              "    [theme=dark] .colab-df-convert:hover {\n",
              "      background-color: #434B5C;\n",
              "      box-shadow: 0px 1px 3px 1px rgba(0, 0, 0, 0.15);\n",
              "      filter: drop-shadow(0px 1px 2px rgba(0, 0, 0, 0.3));\n",
              "      fill: #FFFFFF;\n",
              "    }\n",
              "  </style>\n",
              "\n",
              "      <script>\n",
              "        const buttonEl =\n",
              "          document.querySelector('#df-ee075f39-8358-4796-b333-5a6219392a1d button.colab-df-convert');\n",
              "        buttonEl.style.display =\n",
              "          google.colab.kernel.accessAllowed ? 'block' : 'none';\n",
              "\n",
              "        async function convertToInteractive(key) {\n",
              "          const element = document.querySelector('#df-ee075f39-8358-4796-b333-5a6219392a1d');\n",
              "          const dataTable =\n",
              "            await google.colab.kernel.invokeFunction('convertToInteractive',\n",
              "                                                     [key], {});\n",
              "          if (!dataTable) return;\n",
              "\n",
              "          const docLinkHtml = 'Like what you see? Visit the ' +\n",
              "            '<a target=\"_blank\" href=https://colab.research.google.com/notebooks/data_table.ipynb>data table notebook</a>'\n",
              "            + ' to learn more about interactive tables.';\n",
              "          element.innerHTML = '';\n",
              "          dataTable['output_type'] = 'display_data';\n",
              "          await google.colab.output.renderOutput(dataTable, element);\n",
              "          const docLink = document.createElement('div');\n",
              "          docLink.innerHTML = docLinkHtml;\n",
              "          element.appendChild(docLink);\n",
              "        }\n",
              "      </script>\n",
              "    </div>\n",
              "  </div>\n",
              "  "
            ]
          },
          "metadata": {},
          "execution_count": 81
        }
      ]
    },
    {
      "cell_type": "code",
      "source": [
        "x.mean(axis=0) ###axis=0일때 각각의 column에서 평균을 구함"
      ],
      "metadata": {
        "colab": {
          "base_uri": "https://localhost:8080/"
        },
        "id": "2DZFNVqSAILJ",
        "outputId": "934251e2-2afa-46f3-f5e3-cfa79f674e09"
      },
      "execution_count": null,
      "outputs": [
        {
          "output_type": "stream",
          "name": "stderr",
          "text": [
            "/usr/local/lib/python3.7/dist-packages/ipykernel_launcher.py:1: FutureWarning: Dropping of nuisance columns in DataFrame reductions (with 'numeric_only=None') is deprecated; in a future version this will raise TypeError.  Select only valid columns before calling the reduction.\n",
            "  \"\"\"Entry point for launching an IPython kernel.\n"
          ]
        },
        {
          "output_type": "execute_result",
          "data": {
            "text/plain": [
              "age        30.750\n",
              "height    173.525\n",
              "dtype: float64"
            ]
          },
          "metadata": {},
          "execution_count": 83
        }
      ]
    },
    {
      "cell_type": "code",
      "source": [
        "x.mean(axis=1) ###axis=1 일때 각각의 row에서 평균을 구함"
      ],
      "metadata": {
        "colab": {
          "base_uri": "https://localhost:8080/"
        },
        "id": "OW8CiZ52ARyt",
        "outputId": "5b5075ca-85e1-4705-8ffb-54bc90bbcbd1"
      },
      "execution_count": null,
      "outputs": [
        {
          "output_type": "stream",
          "name": "stderr",
          "text": [
            "/usr/local/lib/python3.7/dist-packages/ipykernel_launcher.py:1: FutureWarning: Dropping of nuisance columns in DataFrame reductions (with 'numeric_only=None') is deprecated; in a future version this will raise TypeError.  Select only valid columns before calling the reduction.\n",
            "  \"\"\"Entry point for launching an IPython kernel.\n"
          ]
        },
        {
          "output_type": "execute_result",
          "data": {
            "text/plain": [
              "0     99.15\n",
              "1    111.65\n",
              "2     88.90\n",
              "3    108.85\n",
              "dtype: float64"
            ]
          },
          "metadata": {},
          "execution_count": 84
        }
      ]
    },
    {
      "cell_type": "markdown",
      "source": [
        "DataFrame에는 대표적으로 세가지 타입이 있음\n",
        "1. objicts:문자 또는 문자열\n",
        "2. int64:정수형\n",
        "3. Float64:실수형"
      ],
      "metadata": {
        "id": "OD8_B1KgA6bv"
      }
    },
    {
      "cell_type": "code",
      "source": [
        " import pandas as pd"
      ],
      "metadata": {
        "id": "fJSnOhV6j4vJ"
      },
      "execution_count": null,
      "outputs": []
    },
    {
      "cell_type": "code",
      "source": [
        "ary = [[1,2],[3,4],[5,6],[7,8],[9,10]]\n",
        "data = pd.DataFrame(ary, columns=['First', 'Second'])\n",
        "data"
      ],
      "metadata": {
        "colab": {
          "base_uri": "https://localhost:8080/",
          "height": 206
        },
        "id": "Wr_HSvL-kO2d",
        "outputId": "b438d92e-b308-43be-e896-df86354f1d79"
      },
      "execution_count": null,
      "outputs": [
        {
          "output_type": "execute_result",
          "data": {
            "text/plain": [
              "   First  Second\n",
              "0      1       2\n",
              "1      3       4\n",
              "2      5       6\n",
              "3      7       8\n",
              "4      9      10"
            ],
            "text/html": [
              "\n",
              "  <div id=\"df-8b46e849-f773-4175-9668-47fbce563376\">\n",
              "    <div class=\"colab-df-container\">\n",
              "      <div>\n",
              "<style scoped>\n",
              "    .dataframe tbody tr th:only-of-type {\n",
              "        vertical-align: middle;\n",
              "    }\n",
              "\n",
              "    .dataframe tbody tr th {\n",
              "        vertical-align: top;\n",
              "    }\n",
              "\n",
              "    .dataframe thead th {\n",
              "        text-align: right;\n",
              "    }\n",
              "</style>\n",
              "<table border=\"1\" class=\"dataframe\">\n",
              "  <thead>\n",
              "    <tr style=\"text-align: right;\">\n",
              "      <th></th>\n",
              "      <th>First</th>\n",
              "      <th>Second</th>\n",
              "    </tr>\n",
              "  </thead>\n",
              "  <tbody>\n",
              "    <tr>\n",
              "      <th>0</th>\n",
              "      <td>1</td>\n",
              "      <td>2</td>\n",
              "    </tr>\n",
              "    <tr>\n",
              "      <th>1</th>\n",
              "      <td>3</td>\n",
              "      <td>4</td>\n",
              "    </tr>\n",
              "    <tr>\n",
              "      <th>2</th>\n",
              "      <td>5</td>\n",
              "      <td>6</td>\n",
              "    </tr>\n",
              "    <tr>\n",
              "      <th>3</th>\n",
              "      <td>7</td>\n",
              "      <td>8</td>\n",
              "    </tr>\n",
              "    <tr>\n",
              "      <th>4</th>\n",
              "      <td>9</td>\n",
              "      <td>10</td>\n",
              "    </tr>\n",
              "  </tbody>\n",
              "</table>\n",
              "</div>\n",
              "      <button class=\"colab-df-convert\" onclick=\"convertToInteractive('df-8b46e849-f773-4175-9668-47fbce563376')\"\n",
              "              title=\"Convert this dataframe to an interactive table.\"\n",
              "              style=\"display:none;\">\n",
              "        \n",
              "  <svg xmlns=\"http://www.w3.org/2000/svg\" height=\"24px\"viewBox=\"0 0 24 24\"\n",
              "       width=\"24px\">\n",
              "    <path d=\"M0 0h24v24H0V0z\" fill=\"none\"/>\n",
              "    <path d=\"M18.56 5.44l.94 2.06.94-2.06 2.06-.94-2.06-.94-.94-2.06-.94 2.06-2.06.94zm-11 1L8.5 8.5l.94-2.06 2.06-.94-2.06-.94L8.5 2.5l-.94 2.06-2.06.94zm10 10l.94 2.06.94-2.06 2.06-.94-2.06-.94-.94-2.06-.94 2.06-2.06.94z\"/><path d=\"M17.41 7.96l-1.37-1.37c-.4-.4-.92-.59-1.43-.59-.52 0-1.04.2-1.43.59L10.3 9.45l-7.72 7.72c-.78.78-.78 2.05 0 2.83L4 21.41c.39.39.9.59 1.41.59.51 0 1.02-.2 1.41-.59l7.78-7.78 2.81-2.81c.8-.78.8-2.07 0-2.86zM5.41 20L4 18.59l7.72-7.72 1.47 1.35L5.41 20z\"/>\n",
              "  </svg>\n",
              "      </button>\n",
              "      \n",
              "  <style>\n",
              "    .colab-df-container {\n",
              "      display:flex;\n",
              "      flex-wrap:wrap;\n",
              "      gap: 12px;\n",
              "    }\n",
              "\n",
              "    .colab-df-convert {\n",
              "      background-color: #E8F0FE;\n",
              "      border: none;\n",
              "      border-radius: 50%;\n",
              "      cursor: pointer;\n",
              "      display: none;\n",
              "      fill: #1967D2;\n",
              "      height: 32px;\n",
              "      padding: 0 0 0 0;\n",
              "      width: 32px;\n",
              "    }\n",
              "\n",
              "    .colab-df-convert:hover {\n",
              "      background-color: #E2EBFA;\n",
              "      box-shadow: 0px 1px 2px rgba(60, 64, 67, 0.3), 0px 1px 3px 1px rgba(60, 64, 67, 0.15);\n",
              "      fill: #174EA6;\n",
              "    }\n",
              "\n",
              "    [theme=dark] .colab-df-convert {\n",
              "      background-color: #3B4455;\n",
              "      fill: #D2E3FC;\n",
              "    }\n",
              "\n",
              "    [theme=dark] .colab-df-convert:hover {\n",
              "      background-color: #434B5C;\n",
              "      box-shadow: 0px 1px 3px 1px rgba(0, 0, 0, 0.15);\n",
              "      filter: drop-shadow(0px 1px 2px rgba(0, 0, 0, 0.3));\n",
              "      fill: #FFFFFF;\n",
              "    }\n",
              "  </style>\n",
              "\n",
              "      <script>\n",
              "        const buttonEl =\n",
              "          document.querySelector('#df-8b46e849-f773-4175-9668-47fbce563376 button.colab-df-convert');\n",
              "        buttonEl.style.display =\n",
              "          google.colab.kernel.accessAllowed ? 'block' : 'none';\n",
              "\n",
              "        async function convertToInteractive(key) {\n",
              "          const element = document.querySelector('#df-8b46e849-f773-4175-9668-47fbce563376');\n",
              "          const dataTable =\n",
              "            await google.colab.kernel.invokeFunction('convertToInteractive',\n",
              "                                                     [key], {});\n",
              "          if (!dataTable) return;\n",
              "\n",
              "          const docLinkHtml = 'Like what you see? Visit the ' +\n",
              "            '<a target=\"_blank\" href=https://colab.research.google.com/notebooks/data_table.ipynb>data table notebook</a>'\n",
              "            + ' to learn more about interactive tables.';\n",
              "          element.innerHTML = '';\n",
              "          dataTable['output_type'] = 'display_data';\n",
              "          await google.colab.output.renderOutput(dataTable, element);\n",
              "          const docLink = document.createElement('div');\n",
              "          docLink.innerHTML = docLinkHtml;\n",
              "          element.appendChild(docLink);\n",
              "        }\n",
              "      </script>\n",
              "    </div>\n",
              "  </div>\n",
              "  "
            ]
          },
          "metadata": {},
          "execution_count": 6
        }
      ]
    },
    {
      "cell_type": "code",
      "source": [
        "data['First'] = data['First'].astype('float')\n",
        "data"
      ],
      "metadata": {
        "colab": {
          "base_uri": "https://localhost:8080/",
          "height": 206
        },
        "id": "fMpGjwOkkT1C",
        "outputId": "ba6db8f0-8c63-4365-9049-3c7b2ccb50b2"
      },
      "execution_count": null,
      "outputs": [
        {
          "output_type": "execute_result",
          "data": {
            "text/plain": [
              "   First  Second\n",
              "0    1.0       2\n",
              "1    3.0       4\n",
              "2    5.0       6\n",
              "3    7.0       8\n",
              "4    9.0      10"
            ],
            "text/html": [
              "\n",
              "  <div id=\"df-889a5748-039c-4e1c-acc7-f6a69e53f6ee\">\n",
              "    <div class=\"colab-df-container\">\n",
              "      <div>\n",
              "<style scoped>\n",
              "    .dataframe tbody tr th:only-of-type {\n",
              "        vertical-align: middle;\n",
              "    }\n",
              "\n",
              "    .dataframe tbody tr th {\n",
              "        vertical-align: top;\n",
              "    }\n",
              "\n",
              "    .dataframe thead th {\n",
              "        text-align: right;\n",
              "    }\n",
              "</style>\n",
              "<table border=\"1\" class=\"dataframe\">\n",
              "  <thead>\n",
              "    <tr style=\"text-align: right;\">\n",
              "      <th></th>\n",
              "      <th>First</th>\n",
              "      <th>Second</th>\n",
              "    </tr>\n",
              "  </thead>\n",
              "  <tbody>\n",
              "    <tr>\n",
              "      <th>0</th>\n",
              "      <td>1.0</td>\n",
              "      <td>2</td>\n",
              "    </tr>\n",
              "    <tr>\n",
              "      <th>1</th>\n",
              "      <td>3.0</td>\n",
              "      <td>4</td>\n",
              "    </tr>\n",
              "    <tr>\n",
              "      <th>2</th>\n",
              "      <td>5.0</td>\n",
              "      <td>6</td>\n",
              "    </tr>\n",
              "    <tr>\n",
              "      <th>3</th>\n",
              "      <td>7.0</td>\n",
              "      <td>8</td>\n",
              "    </tr>\n",
              "    <tr>\n",
              "      <th>4</th>\n",
              "      <td>9.0</td>\n",
              "      <td>10</td>\n",
              "    </tr>\n",
              "  </tbody>\n",
              "</table>\n",
              "</div>\n",
              "      <button class=\"colab-df-convert\" onclick=\"convertToInteractive('df-889a5748-039c-4e1c-acc7-f6a69e53f6ee')\"\n",
              "              title=\"Convert this dataframe to an interactive table.\"\n",
              "              style=\"display:none;\">\n",
              "        \n",
              "  <svg xmlns=\"http://www.w3.org/2000/svg\" height=\"24px\"viewBox=\"0 0 24 24\"\n",
              "       width=\"24px\">\n",
              "    <path d=\"M0 0h24v24H0V0z\" fill=\"none\"/>\n",
              "    <path d=\"M18.56 5.44l.94 2.06.94-2.06 2.06-.94-2.06-.94-.94-2.06-.94 2.06-2.06.94zm-11 1L8.5 8.5l.94-2.06 2.06-.94-2.06-.94L8.5 2.5l-.94 2.06-2.06.94zm10 10l.94 2.06.94-2.06 2.06-.94-2.06-.94-.94-2.06-.94 2.06-2.06.94z\"/><path d=\"M17.41 7.96l-1.37-1.37c-.4-.4-.92-.59-1.43-.59-.52 0-1.04.2-1.43.59L10.3 9.45l-7.72 7.72c-.78.78-.78 2.05 0 2.83L4 21.41c.39.39.9.59 1.41.59.51 0 1.02-.2 1.41-.59l7.78-7.78 2.81-2.81c.8-.78.8-2.07 0-2.86zM5.41 20L4 18.59l7.72-7.72 1.47 1.35L5.41 20z\"/>\n",
              "  </svg>\n",
              "      </button>\n",
              "      \n",
              "  <style>\n",
              "    .colab-df-container {\n",
              "      display:flex;\n",
              "      flex-wrap:wrap;\n",
              "      gap: 12px;\n",
              "    }\n",
              "\n",
              "    .colab-df-convert {\n",
              "      background-color: #E8F0FE;\n",
              "      border: none;\n",
              "      border-radius: 50%;\n",
              "      cursor: pointer;\n",
              "      display: none;\n",
              "      fill: #1967D2;\n",
              "      height: 32px;\n",
              "      padding: 0 0 0 0;\n",
              "      width: 32px;\n",
              "    }\n",
              "\n",
              "    .colab-df-convert:hover {\n",
              "      background-color: #E2EBFA;\n",
              "      box-shadow: 0px 1px 2px rgba(60, 64, 67, 0.3), 0px 1px 3px 1px rgba(60, 64, 67, 0.15);\n",
              "      fill: #174EA6;\n",
              "    }\n",
              "\n",
              "    [theme=dark] .colab-df-convert {\n",
              "      background-color: #3B4455;\n",
              "      fill: #D2E3FC;\n",
              "    }\n",
              "\n",
              "    [theme=dark] .colab-df-convert:hover {\n",
              "      background-color: #434B5C;\n",
              "      box-shadow: 0px 1px 3px 1px rgba(0, 0, 0, 0.15);\n",
              "      filter: drop-shadow(0px 1px 2px rgba(0, 0, 0, 0.3));\n",
              "      fill: #FFFFFF;\n",
              "    }\n",
              "  </style>\n",
              "\n",
              "      <script>\n",
              "        const buttonEl =\n",
              "          document.querySelector('#df-889a5748-039c-4e1c-acc7-f6a69e53f6ee button.colab-df-convert');\n",
              "        buttonEl.style.display =\n",
              "          google.colab.kernel.accessAllowed ? 'block' : 'none';\n",
              "\n",
              "        async function convertToInteractive(key) {\n",
              "          const element = document.querySelector('#df-889a5748-039c-4e1c-acc7-f6a69e53f6ee');\n",
              "          const dataTable =\n",
              "            await google.colab.kernel.invokeFunction('convertToInteractive',\n",
              "                                                     [key], {});\n",
              "          if (!dataTable) return;\n",
              "\n",
              "          const docLinkHtml = 'Like what you see? Visit the ' +\n",
              "            '<a target=\"_blank\" href=https://colab.research.google.com/notebooks/data_table.ipynb>data table notebook</a>'\n",
              "            + ' to learn more about interactive tables.';\n",
              "          element.innerHTML = '';\n",
              "          dataTable['output_type'] = 'display_data';\n",
              "          await google.colab.output.renderOutput(dataTable, element);\n",
              "          const docLink = document.createElement('div');\n",
              "          docLink.innerHTML = docLinkHtml;\n",
              "          element.appendChild(docLink);\n",
              "        }\n",
              "      </script>\n",
              "    </div>\n",
              "  </div>\n",
              "  "
            ]
          },
          "metadata": {},
          "execution_count": 7
        }
      ]
    },
    {
      "cell_type": "code",
      "source": [
        "dir='C:\\Users\\김상원\\Downloads/강원도_춘천시_무인교통단속카메라_20190930.csv'\n",
        "accident_data=pd.read_csv(dir,encoding='CP949')"
      ],
      "metadata": {
        "colab": {
          "base_uri": "https://localhost:8080/",
          "height": 157
        },
        "id": "HnpVpIdFkd5K",
        "outputId": "288b185e-02a5-45d2-dfe8-2854cf0312e8"
      },
      "execution_count": null,
      "outputs": [
        {
          "output_type": "error",
          "ename": "SyntaxError",
          "evalue": "ignored",
          "traceback": [
            "\u001b[0;36m  File \u001b[0;32m\"<ipython-input-11-d611d103a587>\"\u001b[0;36m, line \u001b[0;32m1\u001b[0m\n\u001b[0;31m    dir='C:\\Users\\김상원\\Downloads/강원도_춘천시_무인교통단속카메라_20190930.csv'\u001b[0m\n\u001b[0m       ^\u001b[0m\n\u001b[0;31mSyntaxError\u001b[0m\u001b[0;31m:\u001b[0m (unicode error) 'unicodeescape' codec can't decode bytes in position 2-3: truncated \\UXXXXXXXX escape\n"
          ]
        }
      ]
    },
    {
      "cell_type": "markdown",
      "source": [
        "문자열이란? String이란 문자, 단어 등으로 구성된 문자들의 집합."
      ],
      "metadata": {
        "id": "-R_2NvvGm5Sz"
      }
    },
    {
      "cell_type": "code",
      "source": [
        "string_ex=\"it\\'s good\"\n",
        "string_ex"
      ],
      "metadata": {
        "colab": {
          "base_uri": "https://localhost:8080/",
          "height": 36
        },
        "id": "QXW4jDCqnDpn",
        "outputId": "05beb9ce-f341-4580-bd71-c2e47a56aff5"
      },
      "execution_count": null,
      "outputs": [
        {
          "output_type": "execute_result",
          "data": {
            "text/plain": [
              "\"it's good\""
            ],
            "application/vnd.google.colaboratory.intrinsic+json": {
              "type": "string"
            }
          },
          "metadata": {},
          "execution_count": 12
        }
      ]
    },
    {
      "cell_type": "code",
      "source": [
        "string_ex='it\\'s good'\n",
        "string_ex"
      ],
      "metadata": {
        "colab": {
          "base_uri": "https://localhost:8080/",
          "height": 36
        },
        "id": "IiucMOe5n0gj",
        "outputId": "9306084d-d779-4d2a-b097-daa5c49211d3"
      },
      "execution_count": null,
      "outputs": [
        {
          "output_type": "execute_result",
          "data": {
            "text/plain": [
              "\"it's good\""
            ],
            "application/vnd.google.colaboratory.intrinsic+json": {
              "type": "string"
            }
          },
          "metadata": {},
          "execution_count": 13
        }
      ]
    },
    {
      "cell_type": "code",
      "source": [
        "string_ex = '''Hello\n",
        "Bye\n",
        "Hello Again!\n",
        "'''\n",
        "print(string_ex)"
      ],
      "metadata": {
        "colab": {
          "base_uri": "https://localhost:8080/"
        },
        "id": "krCsCuxQotfJ",
        "outputId": "130adb6f-6e5f-4c77-bfdf-613c290e08c0"
      },
      "execution_count": null,
      "outputs": [
        {
          "output_type": "stream",
          "name": "stdout",
          "text": [
            "Hello\n",
            "Bye\n",
            "Hello Again!\n",
            "\n"
          ]
        }
      ]
    },
    {
      "cell_type": "code",
      "source": [
        "string_ex='Hello\\nbye\\nhell again!'\n",
        "print(string_ex)"
      ],
      "metadata": {
        "colab": {
          "base_uri": "https://localhost:8080/"
        },
        "id": "yZG9Z5L6pCVr",
        "outputId": "c8ebb6c4-73c9-4669-a4a2-22694721e8b1"
      },
      "execution_count": null,
      "outputs": [
        {
          "output_type": "stream",
          "name": "stdout",
          "text": [
            "Hello\n",
            "bye\n",
            "hell again!\n"
          ]
        }
      ]
    },
    {
      "cell_type": "markdown",
      "source": [
        "![화면 캡처 2022-04-15 185730.png](data:image/png;base64,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)"
      ],
      "metadata": {
        "id": "SPDW5ZM1p7Lx"
      }
    },
    {
      "cell_type": "code",
      "source": [
        "a=\"hello\"  ###문자열 연산(더하기)\n",
        "b=\" world\"\n",
        "c=a+b\n",
        "print(c)"
      ],
      "metadata": {
        "colab": {
          "base_uri": "https://localhost:8080/"
        },
        "id": "bOIIiWQyqFYi",
        "outputId": "4a58cc22-7ce2-4cb1-aac9-969eee45abc9"
      },
      "execution_count": null,
      "outputs": [
        {
          "output_type": "stream",
          "name": "stdout",
          "text": [
            "hello world\n"
          ]
        }
      ]
    },
    {
      "cell_type": "code",
      "source": [
        "a=\"hello\"  ###문자열 연산(곱하기)\n",
        "b=\" world\"\n",
        "c=a+b\n",
        "d=c*2\n",
        "print(d)"
      ],
      "metadata": {
        "colab": {
          "base_uri": "https://localhost:8080/"
        },
        "id": "gN8K7kbDs3VS",
        "outputId": "354ad71f-7159-4472-a6ad-4a683080f29c"
      },
      "execution_count": null,
      "outputs": [
        {
          "output_type": "stream",
          "name": "stdout",
          "text": [
            "hello worldhello world\n"
          ]
        }
      ]
    },
    {
      "cell_type": "code",
      "source": [
        "print('='*10)\n",
        "print('='*20)"
      ],
      "metadata": {
        "colab": {
          "base_uri": "https://localhost:8080/"
        },
        "id": "VfrN59ZutSrO",
        "outputId": "dc9f8c0e-0a9c-49f1-e02e-106298b972fe"
      },
      "execution_count": null,
      "outputs": [
        {
          "output_type": "stream",
          "name": "stdout",
          "text": [
            "==========\n",
            "====================\n"
          ]
        }
      ]
    },
    {
      "cell_type": "code",
      "source": [
        "print('='*50)\n",
        "print('Result: ')\n",
        "print('='*50)"
      ],
      "metadata": {
        "colab": {
          "base_uri": "https://localhost:8080/"
        },
        "id": "NQAgkHxotgV2",
        "outputId": "16bae142-811e-49aa-bbee-1a95ed957604"
      },
      "execution_count": null,
      "outputs": [
        {
          "output_type": "stream",
          "name": "stdout",
          "text": [
            "==================================================\n",
            "Result: \n",
            "==================================================\n"
          ]
        }
      ]
    },
    {
      "cell_type": "code",
      "source": [
        "a = 'Hello World'\n",
        "len(a)  #len 함수를 이용하면, 문자열의 길이를 알수있다\n"
      ],
      "metadata": {
        "colab": {
          "base_uri": "https://localhost:8080/"
        },
        "id": "8TDf7rXmtz3o",
        "outputId": "34cf59ff-bcae-4e06-9598-7469404ea5f0"
      },
      "execution_count": null,
      "outputs": [
        {
          "output_type": "execute_result",
          "data": {
            "text/plain": [
              "11"
            ]
          },
          "metadata": {},
          "execution_count": 24
        }
      ]
    },
    {
      "cell_type": "code",
      "source": [
        "a = 'hello Wlrld'\n",
        "print(a[0])"
      ],
      "metadata": {
        "colab": {
          "base_uri": "https://localhost:8080/"
        },
        "id": "Tww-OqAxuDgD",
        "outputId": "9dd62eb4-1b5a-4080-eb1f-19a8239accdb"
      },
      "execution_count": null,
      "outputs": [
        {
          "output_type": "stream",
          "name": "stdout",
          "text": [
            "h\n"
          ]
        }
      ]
    },
    {
      "cell_type": "code",
      "source": [
        "print(a[4])\n",
        "print(a[9])\n",
        "print(a[3])"
      ],
      "metadata": {
        "colab": {
          "base_uri": "https://localhost:8080/"
        },
        "id": "6tCMpURawRdP",
        "outputId": "b493ead0-8744-41c5-90f7-6b3510a37b61"
      },
      "execution_count": null,
      "outputs": [
        {
          "output_type": "stream",
          "name": "stdout",
          "text": [
            "o\n",
            "l\n",
            "l\n"
          ]
        }
      ]
    },
    {
      "cell_type": "code",
      "source": [
        "a = 'hello Wlrld'\n",
        "print(a[-1])\n",
        "print(a[-2])\n",
        "print(a[-3])\n",
        "print(a[-9])"
      ],
      "metadata": {
        "colab": {
          "base_uri": "https://localhost:8080/"
        },
        "id": "bsxUSvHQwXgE",
        "outputId": "dcfadd67-215a-4106-be52-12c67f91c701"
      },
      "execution_count": null,
      "outputs": [
        {
          "output_type": "stream",
          "name": "stdout",
          "text": [
            "d\n",
            "l\n",
            "r\n",
            "l\n"
          ]
        }
      ]
    },
    {
      "cell_type": "code",
      "source": [
        "a = 'Hello World'\n",
        "left_part=a[:5]\n",
        "print(left_part)\n",
        "second_part=a[5:]\n",
        "print(second_part)"
      ],
      "metadata": {
        "colab": {
          "base_uri": "https://localhost:8080/"
        },
        "id": "lj3qLWSvw1W-",
        "outputId": "ccf1ff10-bb5e-4d77-c9cf-5099c85cac64"
      },
      "execution_count": null,
      "outputs": [
        {
          "output_type": "stream",
          "name": "stdout",
          "text": [
            "Hello\n",
            " World\n"
          ]
        }
      ]
    },
    {
      "cell_type": "code",
      "source": [
        "a=\"I am %d years old.\" %30\n",
        "print(a) ###문자열 사이에 %d를 넣고 원하는 값을 넣을수 있다."
      ],
      "metadata": {
        "colab": {
          "base_uri": "https://localhost:8080/"
        },
        "id": "iddCFWpcxK9P",
        "outputId": "0135f729-303e-46c9-8c7d-42e7c739ac63"
      },
      "execution_count": null,
      "outputs": [
        {
          "output_type": "stream",
          "name": "stdout",
          "text": [
            "I am 30 years old.\n"
          ]
        }
      ]
    },
    {
      "cell_type": "code",
      "source": [
        "myage=29\n",
        "hisage=30\n",
        "a=\"i am %d years old. he is %d years old.\" %(myage,hisage)\n",
        "print(a)"
      ],
      "metadata": {
        "colab": {
          "base_uri": "https://localhost:8080/"
        },
        "id": "jMGdokn36Mua",
        "outputId": "7f3ed3de-446e-4afd-82f6-c05c80b9e7e2"
      },
      "execution_count": null,
      "outputs": [
        {
          "output_type": "stream",
          "name": "stdout",
          "text": [
            "i am 29 years old. he is 30 years old.\n"
          ]
        }
      ]
    },
    {
      "cell_type": "code",
      "source": [
        "name='Youn Doh ha'\n",
        "a=\"My name is %s.\" %(name)\n",
        "print(a)"
      ],
      "metadata": {
        "colab": {
          "base_uri": "https://localhost:8080/"
        },
        "id": "ss9HobFL7Dy2",
        "outputId": "9c70f6c4-8b97-4e61-e4b6-20e6a4563d75"
      },
      "execution_count": null,
      "outputs": [
        {
          "output_type": "stream",
          "name": "stdout",
          "text": [
            "My name is Youn Doh ha.\n"
          ]
        }
      ]
    },
    {
      "cell_type": "markdown",
      "source": [
        "![화면 캡처 2022-04-15 201441.png](data:image/png;base64,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)"
      ],
      "metadata": {
        "id": "IKf7p0NZ7zw4"
      }
    },
    {
      "cell_type": "code",
      "source": [
        "a=\"Error is %f%.\" %98.3\n",
        "print(a)"
      ],
      "metadata": {
        "id": "bvRsHkkO72XM",
        "colab": {
          "base_uri": "https://localhost:8080/",
          "height": 195
        },
        "outputId": "6d6c9eab-9217-4e70-b546-b47d34e089f8"
      },
      "execution_count": null,
      "outputs": [
        {
          "output_type": "error",
          "ename": "ValueError",
          "evalue": "ignored",
          "traceback": [
            "\u001b[0;31m---------------------------------------------------------------------------\u001b[0m",
            "\u001b[0;31mValueError\u001b[0m                                Traceback (most recent call last)",
            "\u001b[0;32m<ipython-input-1-c30ce41f6986>\u001b[0m in \u001b[0;36m<module>\u001b[0;34m()\u001b[0m\n\u001b[0;32m----> 1\u001b[0;31m \u001b[0ma\u001b[0m\u001b[0;34m=\u001b[0m\u001b[0;34m\"Error is %f%.\"\u001b[0m \u001b[0;34m%\u001b[0m\u001b[0;36m98.3\u001b[0m\u001b[0;34m\u001b[0m\u001b[0;34m\u001b[0m\u001b[0m\n\u001b[0m\u001b[1;32m      2\u001b[0m \u001b[0mprint\u001b[0m\u001b[0;34m(\u001b[0m\u001b[0ma\u001b[0m\u001b[0;34m)\u001b[0m\u001b[0;34m\u001b[0m\u001b[0;34m\u001b[0m\u001b[0m\n",
            "\u001b[0;31mValueError\u001b[0m: incomplete format"
          ]
        }
      ]
    },
    {
      "cell_type": "code",
      "source": [
        "a=\"Error is %f%%.\" %98.3\n",
        "print(a)"
      ],
      "metadata": {
        "id": "mcByqLgT8Crj",
        "colab": {
          "base_uri": "https://localhost:8080/"
        },
        "outputId": "93571714-602d-4fd0-cb37-a2989ac76ee6"
      },
      "execution_count": null,
      "outputs": [
        {
          "output_type": "stream",
          "name": "stdout",
          "text": [
            "Error is 98.300000%.\n"
          ]
        }
      ]
    },
    {
      "cell_type": "code",
      "source": [
        "a=\"%10s. Hello\" % 'hi'\n",
        "print(a)"
      ],
      "metadata": {
        "colab": {
          "base_uri": "https://localhost:8080/"
        },
        "id": "0KxGrWWrDrlw",
        "outputId": "ee9b4cc2-7a0a-4841-ca9e-a1adbd30bb77"
      },
      "execution_count": null,
      "outputs": [
        {
          "output_type": "stream",
          "name": "stdout",
          "text": [
            "        hi. Hello\n"
          ]
        }
      ]
    },
    {
      "cell_type": "code",
      "source": [
        "a=\"%-10s. Hello\" % 'hi'\n",
        "print(a)"
      ],
      "metadata": {
        "colab": {
          "base_uri": "https://localhost:8080/"
        },
        "id": "NauNCN0sKI5r",
        "outputId": "ed41926e-17c0-418a-f151-44c7f35922d9"
      },
      "execution_count": null,
      "outputs": [
        {
          "output_type": "stream",
          "name": "stdout",
          "text": [
            "hi        . Hello\n"
          ]
        }
      ]
    },
    {
      "cell_type": "code",
      "source": [
        "print(\"%0.4f\" % 1.123456789)"
      ],
      "metadata": {
        "colab": {
          "base_uri": "https://localhost:8080/"
        },
        "id": "QjpER7kwKLQW",
        "outputId": "d2a55d6c-59e2-463b-e795-03dfff532cf9"
      },
      "execution_count": null,
      "outputs": [
        {
          "output_type": "stream",
          "name": "stdout",
          "text": [
            "1.1235\n"
          ]
        }
      ]
    },
    {
      "cell_type": "code",
      "source": [
        "print(\"%0.8f\" % 1.123456789)"
      ],
      "metadata": {
        "colab": {
          "base_uri": "https://localhost:8080/"
        },
        "id": "t5nKIggSKNas",
        "outputId": "a3fedcec-d3eb-427d-f55d-7d06fcade75b"
      },
      "execution_count": null,
      "outputs": [
        {
          "output_type": "stream",
          "name": "stdout",
          "text": [
            "1.12345679\n"
          ]
        }
      ]
    },
    {
      "cell_type": "code",
      "source": [
        "a='hello'\n",
        "a.count('l')"
      ],
      "metadata": {
        "colab": {
          "base_uri": "https://localhost:8080/"
        },
        "id": "ofePGF5IKP03",
        "outputId": "928aa85b-dec1-44a2-b05a-aa78b83527c4"
      },
      "execution_count": null,
      "outputs": [
        {
          "output_type": "execute_result",
          "data": {
            "text/plain": [
              "2"
            ]
          },
          "metadata": {},
          "execution_count": 7
        }
      ]
    },
    {
      "cell_type": "code",
      "source": [
        "a=\"Python is the best\"\n",
        "a.find('b')\n",
        "14\n",
        "a.find('k')\n",
        "-1"
      ],
      "metadata": {
        "colab": {
          "base_uri": "https://localhost:8080/"
        },
        "id": "wT3ib6MqKR3r",
        "outputId": "0b1a9bb9-d3ee-45f2-c0fe-d2267f7d2ff1"
      },
      "execution_count": null,
      "outputs": [
        {
          "output_type": "execute_result",
          "data": {
            "text/plain": [
              "-1"
            ]
          },
          "metadata": {},
          "execution_count": 8
        }
      ]
    },
    {
      "cell_type": "code",
      "source": [
        "a= \"Life is too short\"\n",
        "a.index('t')"
      ],
      "metadata": {
        "colab": {
          "base_uri": "https://localhost:8080/"
        },
        "id": "wqxXNjYTK06V",
        "outputId": "98c0778a-41ee-49bb-c406-0494d75ede3c"
      },
      "execution_count": null,
      "outputs": [
        {
          "output_type": "execute_result",
          "data": {
            "text/plain": [
              "8"
            ]
          },
          "metadata": {},
          "execution_count": 9
        }
      ]
    },
    {
      "cell_type": "code",
      "source": [
        "a.index('k')"
      ],
      "metadata": {
        "colab": {
          "base_uri": "https://localhost:8080/",
          "height": 176
        },
        "id": "iIASiwQVK3O3",
        "outputId": "c4128954-22d6-437c-e90b-209a037f1208"
      },
      "execution_count": null,
      "outputs": [
        {
          "output_type": "error",
          "ename": "ValueError",
          "evalue": "ignored",
          "traceback": [
            "\u001b[0;31m---------------------------------------------------------------------------\u001b[0m",
            "\u001b[0;31mValueError\u001b[0m                                Traceback (most recent call last)",
            "\u001b[0;32m<ipython-input-10-cb6c8ec35229>\u001b[0m in \u001b[0;36m<module>\u001b[0;34m()\u001b[0m\n\u001b[0;32m----> 1\u001b[0;31m \u001b[0ma\u001b[0m\u001b[0;34m.\u001b[0m\u001b[0mindex\u001b[0m\u001b[0;34m(\u001b[0m\u001b[0;34m'k'\u001b[0m\u001b[0;34m)\u001b[0m\u001b[0;34m\u001b[0m\u001b[0;34m\u001b[0m\u001b[0m\n\u001b[0m",
            "\u001b[0;31mValueError\u001b[0m: substring not found"
          ]
        }
      ]
    },
    {
      "cell_type": "code",
      "source": [
        "\",\".join('abcd')"
      ],
      "metadata": {
        "colab": {
          "base_uri": "https://localhost:8080/",
          "height": 36
        },
        "id": "4lOXUPlzLQDU",
        "outputId": "4c2c38b0-28da-421c-a448-a2f02c515c88"
      },
      "execution_count": null,
      "outputs": [
        {
          "output_type": "execute_result",
          "data": {
            "text/plain": [
              "'a,b,c,d'"
            ],
            "application/vnd.google.colaboratory.intrinsic+json": {
              "type": "string"
            }
          },
          "metadata": {},
          "execution_count": 11
        }
      ]
    },
    {
      "cell_type": "code",
      "source": [
        "a='HELLO WORLD'\n",
        "a.lower()"
      ],
      "metadata": {
        "colab": {
          "base_uri": "https://localhost:8080/",
          "height": 36
        },
        "id": "dd-6AuOKLSH6",
        "outputId": "4bce4be8-55c0-4a91-e4dd-92c8191aa2b4"
      },
      "execution_count": null,
      "outputs": [
        {
          "output_type": "execute_result",
          "data": {
            "text/plain": [
              "'hello world'"
            ],
            "application/vnd.google.colaboratory.intrinsic+json": {
              "type": "string"
            }
          },
          "metadata": {},
          "execution_count": 12
        }
      ]
    },
    {
      "cell_type": "code",
      "source": [
        "a='HELLO WORLD'\n",
        "a.upper()"
      ],
      "metadata": {
        "colab": {
          "base_uri": "https://localhost:8080/",
          "height": 36
        },
        "id": "B0uf4rmCLT57",
        "outputId": "ad8c91c6-22dc-463d-9eef-b9418dea4cbd"
      },
      "execution_count": null,
      "outputs": [
        {
          "output_type": "execute_result",
          "data": {
            "text/plain": [
              "'HELLO WORLD'"
            ],
            "application/vnd.google.colaboratory.intrinsic+json": {
              "type": "string"
            }
          },
          "metadata": {},
          "execution_count": 13
        }
      ]
    },
    {
      "cell_type": "code",
      "source": [
        "a= \"hi\"\n",
        "a.lstrip()"
      ],
      "metadata": {
        "colab": {
          "base_uri": "https://localhost:8080/",
          "height": 36
        },
        "id": "_C5Vxw8XLV1t",
        "outputId": "cfc0a5bb-e3dd-493b-a13b-05e6a9afdafb"
      },
      "execution_count": null,
      "outputs": [
        {
          "output_type": "execute_result",
          "data": {
            "text/plain": [
              "'hi'"
            ],
            "application/vnd.google.colaboratory.intrinsic+json": {
              "type": "string"
            }
          },
          "metadata": {},
          "execution_count": 14
        }
      ]
    },
    {
      "cell_type": "code",
      "source": [
        "a=\"hi\"\n",
        "a.rstrip()"
      ],
      "metadata": {
        "colab": {
          "base_uri": "https://localhost:8080/",
          "height": 36
        },
        "id": "jUQdfLpvLuAf",
        "outputId": "548635fa-0e79-4a33-c9f4-8af22b2cc598"
      },
      "execution_count": null,
      "outputs": [
        {
          "output_type": "execute_result",
          "data": {
            "text/plain": [
              "'hi'"
            ],
            "application/vnd.google.colaboratory.intrinsic+json": {
              "type": "string"
            }
          },
          "metadata": {},
          "execution_count": 15
        }
      ]
    },
    {
      "cell_type": "code",
      "source": [
        "a=\"hi\"\n",
        "a.strip()"
      ],
      "metadata": {
        "colab": {
          "base_uri": "https://localhost:8080/",
          "height": 36
        },
        "id": "0DZ2Onf8Lvly",
        "outputId": "3ba74513-9190-4d29-8ac2-bc46f4b57b59"
      },
      "execution_count": null,
      "outputs": [
        {
          "output_type": "execute_result",
          "data": {
            "text/plain": [
              "'hi'"
            ],
            "application/vnd.google.colaboratory.intrinsic+json": {
              "type": "string"
            }
          },
          "metadata": {},
          "execution_count": 16
        }
      ]
    },
    {
      "cell_type": "code",
      "source": [
        "a=\"Life is too short\"\n",
        "a.replace(\"Life\", \"your leg\")"
      ],
      "metadata": {
        "colab": {
          "base_uri": "https://localhost:8080/",
          "height": 36
        },
        "id": "GTROa5mcLxUd",
        "outputId": "78af93df-16ad-4187-969a-b7d5a3451063"
      },
      "execution_count": null,
      "outputs": [
        {
          "output_type": "execute_result",
          "data": {
            "text/plain": [
              "'your leg is too short'"
            ],
            "application/vnd.google.colaboratory.intrinsic+json": {
              "type": "string"
            }
          },
          "metadata": {},
          "execution_count": 17
        }
      ]
    },
    {
      "cell_type": "code",
      "source": [
        "a=\"Life is too short\"\n",
        "a.split()"
      ],
      "metadata": {
        "colab": {
          "base_uri": "https://localhost:8080/"
        },
        "id": "ioURN2MBLzTc",
        "outputId": "30fbae5a-23c2-4689-9020-511a96ed11a7"
      },
      "execution_count": null,
      "outputs": [
        {
          "output_type": "execute_result",
          "data": {
            "text/plain": [
              "['Life', 'is', 'too', 'short']"
            ]
          },
          "metadata": {},
          "execution_count": 18
        }
      ]
    },
    {
      "cell_type": "code",
      "source": [
        "b=\"a:b:c:d\"\n",
        "b.split(':')"
      ],
      "metadata": {
        "colab": {
          "base_uri": "https://localhost:8080/"
        },
        "id": "swapIrKXL1PK",
        "outputId": "be77b94d-241b-43a1-f2ea-6413764784d9"
      },
      "execution_count": null,
      "outputs": [
        {
          "output_type": "execute_result",
          "data": {
            "text/plain": [
              "['a', 'b', 'c', 'd']"
            ]
          },
          "metadata": {},
          "execution_count": 19
        }
      ]
    },
    {
      "cell_type": "code",
      "source": [
        "f= open(\"test.txt\",'w')\n",
        "for i in range(1,11):\n",
        "  data=\"%d번째 줄입니다.\\n\" % i\n",
        "  f.write(data)\n",
        "f.close()"
      ],
      "metadata": {
        "id": "Q1oRpCxsL3MU"
      },
      "execution_count": null,
      "outputs": []
    },
    {
      "cell_type": "code",
      "source": [
        "import numpy as np\n",
        "\n",
        "x=np.linspace(0.2*np.pi,10)\n",
        "y=np.sin(x)"
      ],
      "metadata": {
        "id": "bnk2_bzPL5BN"
      },
      "execution_count": null,
      "outputs": []
    },
    {
      "cell_type": "code",
      "source": [
        "f=open(\"sin.txt\",'w')\n",
        "for i in range(len(y)):\n",
        "  data=y[i]\n",
        "  f.write(data)\n",
        "  f.write('\\n')\n",
        "f.close()"
      ],
      "metadata": {
        "colab": {
          "base_uri": "https://localhost:8080/",
          "height": 251
        },
        "id": "h5NlcX34L7es",
        "outputId": "78bee849-72ec-439b-8bd1-5f6e6c8c28a9"
      },
      "execution_count": null,
      "outputs": [
        {
          "output_type": "error",
          "ename": "TypeError",
          "evalue": "ignored",
          "traceback": [
            "\u001b[0;31m---------------------------------------------------------------------------\u001b[0m",
            "\u001b[0;31mTypeError\u001b[0m                                 Traceback (most recent call last)",
            "\u001b[0;32m<ipython-input-25-bfcf41a4639b>\u001b[0m in \u001b[0;36m<module>\u001b[0;34m()\u001b[0m\n\u001b[1;32m      2\u001b[0m \u001b[0;32mfor\u001b[0m \u001b[0mi\u001b[0m \u001b[0;32min\u001b[0m \u001b[0mrange\u001b[0m\u001b[0;34m(\u001b[0m\u001b[0mlen\u001b[0m\u001b[0;34m(\u001b[0m\u001b[0my\u001b[0m\u001b[0;34m)\u001b[0m\u001b[0;34m)\u001b[0m\u001b[0;34m:\u001b[0m\u001b[0;34m\u001b[0m\u001b[0;34m\u001b[0m\u001b[0m\n\u001b[1;32m      3\u001b[0m   \u001b[0mdata\u001b[0m\u001b[0;34m=\u001b[0m\u001b[0my\u001b[0m\u001b[0;34m[\u001b[0m\u001b[0mi\u001b[0m\u001b[0;34m]\u001b[0m\u001b[0;34m\u001b[0m\u001b[0;34m\u001b[0m\u001b[0m\n\u001b[0;32m----> 4\u001b[0;31m   \u001b[0mf\u001b[0m\u001b[0;34m.\u001b[0m\u001b[0mwrite\u001b[0m\u001b[0;34m(\u001b[0m\u001b[0mdata\u001b[0m\u001b[0;34m)\u001b[0m\u001b[0;34m\u001b[0m\u001b[0;34m\u001b[0m\u001b[0m\n\u001b[0m\u001b[1;32m      5\u001b[0m   \u001b[0mf\u001b[0m\u001b[0;34m.\u001b[0m\u001b[0mwrite\u001b[0m\u001b[0;34m(\u001b[0m\u001b[0;34m'\\n'\u001b[0m\u001b[0;34m)\u001b[0m\u001b[0;34m\u001b[0m\u001b[0;34m\u001b[0m\u001b[0m\n\u001b[1;32m      6\u001b[0m \u001b[0mf\u001b[0m\u001b[0;34m.\u001b[0m\u001b[0mclose\u001b[0m\u001b[0;34m(\u001b[0m\u001b[0;34m)\u001b[0m\u001b[0;34m\u001b[0m\u001b[0;34m\u001b[0m\u001b[0m\n",
            "\u001b[0;31mTypeError\u001b[0m: write() argument must be str, not numpy.float64"
          ]
        }
      ]
    },
    {
      "cell_type": "code",
      "source": [
        "f=open(\"sin.txt\",'w')\n",
        "for i in range(len(y)):\n",
        "  data=str(y[i])\n",
        "  f.write(data)\n",
        "  f.write('\\n')\n",
        "f.close()"
      ],
      "metadata": {
        "id": "u-PZytorL_Yz"
      },
      "execution_count": null,
      "outputs": []
    },
    {
      "cell_type": "code",
      "source": [
        "f= open(\"test.txt\", 'r')\n",
        "line=f.readline()\n",
        "print(line)\n",
        "f.close()"
      ],
      "metadata": {
        "colab": {
          "base_uri": "https://localhost:8080/"
        },
        "id": "FfCUfbQDM5p2",
        "outputId": "77402244-b07c-45ac-c02d-f2fdf70007ec"
      },
      "execution_count": null,
      "outputs": [
        {
          "output_type": "stream",
          "name": "stdout",
          "text": [
            "1번째 줄입니다.\n",
            "\n"
          ]
        }
      ]
    },
    {
      "cell_type": "code",
      "source": [
        "f= open(\"test.txt\", 'r')\n",
        "line=f.readline()\n",
        "print(line)\n",
        "line=f.readline()\n",
        "print(line)\n",
        "line=f.readline()\n",
        "print(line)\n",
        "f.close()"
      ],
      "metadata": {
        "colab": {
          "base_uri": "https://localhost:8080/"
        },
        "id": "-oRR1a_lM7ZV",
        "outputId": "97a9fca4-3c4c-4c3a-a496-afcce6ae08eb"
      },
      "execution_count": null,
      "outputs": [
        {
          "output_type": "stream",
          "name": "stdout",
          "text": [
            "1번째 줄입니다.\n",
            "\n",
            "2번째 줄입니다.\n",
            "\n",
            "3번째 줄입니다.\n",
            "\n"
          ]
        }
      ]
    },
    {
      "cell_type": "code",
      "source": [
        "f= open(\"test.txt\", 'r')\n",
        "while True:\n",
        "  line=f.readline()\n",
        "  if not line: break\n",
        "  print(line)\n",
        "f.close()"
      ],
      "metadata": {
        "colab": {
          "base_uri": "https://localhost:8080/"
        },
        "id": "UpsLWCIAM9pO",
        "outputId": "8749c5b6-1835-4bc4-cc57-525e4dbed82e"
      },
      "execution_count": null,
      "outputs": [
        {
          "output_type": "stream",
          "name": "stdout",
          "text": [
            "1번째 줄입니다.\n",
            "\n",
            "2번째 줄입니다.\n",
            "\n",
            "3번째 줄입니다.\n",
            "\n",
            "4번째 줄입니다.\n",
            "\n",
            "5번째 줄입니다.\n",
            "\n",
            "6번째 줄입니다.\n",
            "\n",
            "7번째 줄입니다.\n",
            "\n",
            "8번째 줄입니다.\n",
            "\n",
            "9번째 줄입니다.\n",
            "\n",
            "10번째 줄입니다.\n",
            "\n"
          ]
        }
      ]
    },
    {
      "cell_type": "code",
      "source": [
        "with open(\"test2.txt\",'w') as f:\n",
        "  f.write(\"Life is too short, you need python.\")"
      ],
      "metadata": {
        "id": "8OpBjeM3M_2r"
      },
      "execution_count": null,
      "outputs": []
    },
    {
      "cell_type": "code",
      "source": [
        "with open(\"test2.txt\",'r') as f:\n",
        "  line=f.readline()\n",
        "  print(line)"
      ],
      "metadata": {
        "colab": {
          "base_uri": "https://localhost:8080/"
        },
        "id": "wR_RsxvPNCJG",
        "outputId": "efadc611-84a5-40fb-98f8-556f52ce5918"
      },
      "execution_count": null,
      "outputs": [
        {
          "output_type": "stream",
          "name": "stdout",
          "text": [
            "Life is too short, you need python.\n"
          ]
        }
      ]
    },
    {
      "cell_type": "code",
      "source": [
        "with open(\"test2.txt\",'r') as f:\n",
        "  line=f.readline()\n",
        "  words=line.split()\n",
        "  print(words)"
      ],
      "metadata": {
        "colab": {
          "base_uri": "https://localhost:8080/"
        },
        "id": "gkG7h-QcNEVE",
        "outputId": "b6fdfa2c-08c3-40ee-d389-9a8cca12607c"
      },
      "execution_count": null,
      "outputs": [
        {
          "output_type": "stream",
          "name": "stdout",
          "text": [
            "['Life', 'is', 'too', 'short,', 'you', 'need', 'python.']\n"
          ]
        }
      ]
    },
    {
      "cell_type": "code",
      "source": [
        "with open(\"test2.txt\",'r') as f:\n",
        "  line=f.readline()\n",
        "  words=line.split()\n",
        "  for i in range(len(words)):\n",
        "   print(words[i])"
      ],
      "metadata": {
        "colab": {
          "base_uri": "https://localhost:8080/"
        },
        "id": "8rj_MQ7kNHnu",
        "outputId": "2e827a52-e553-4435-bcd0-c64565ec283e"
      },
      "execution_count": null,
      "outputs": [
        {
          "output_type": "stream",
          "name": "stdout",
          "text": [
            "Life\n",
            "is\n",
            "too\n",
            "short,\n",
            "you\n",
            "need\n",
            "python.\n"
          ]
        }
      ]
    },
    {
      "cell_type": "code",
      "source": [
        "import numpy as np\n",
        "\n",
        "x=np.linspace(0, 2*np.pi, 10)\n",
        "y=np.sin(x)\n",
        "\n",
        "with open(\"sin.txt\",'w') as f:\n",
        "  for i in range(len(y)):\n",
        "    data=y[i]\n",
        "    f.write('[%d]: %0.9f' % (i,data))\n",
        "    f.write('\\n')\n",
        "f.close()"
      ],
      "metadata": {
        "id": "dLLaxZw1NJeb"
      },
      "execution_count": 2,
      "outputs": []
    },
    {
      "cell_type": "code",
      "source": [
        "with open(\"sin.txt\", \"r\") as f:\n",
        "  lines=f.readlines()\n",
        "  for line in lines:\n",
        "    print(line)"
      ],
      "metadata": {
        "colab": {
          "base_uri": "https://localhost:8080/"
        },
        "id": "r-r5QFxHNN0h",
        "outputId": "05c88b03-c678-4d2b-d828-d9b0e20f6719"
      },
      "execution_count": 3,
      "outputs": [
        {
          "output_type": "stream",
          "name": "stdout",
          "text": [
            "[0]: 0.000000000\n",
            "\n",
            "[1]: 0.642787610\n",
            "\n",
            "[2]: 0.984807753\n",
            "\n",
            "[3]: 0.866025404\n",
            "\n",
            "[4]: 0.342020143\n",
            "\n",
            "[5]: -0.342020143\n",
            "\n",
            "[6]: -0.866025404\n",
            "\n",
            "[7]: -0.984807753\n",
            "\n",
            "[8]: -0.642787610\n",
            "\n",
            "[9]: -0.000000000\n",
            "\n"
          ]
        }
      ]
    },
    {
      "cell_type": "code",
      "source": [
        "with open(\"sin.txt\", 'r') as f:\n",
        "  lines=f.readlines()\n",
        "  y=[]\n",
        "  for line in lines:\n",
        "    words=line.split(':')\n",
        "    print(words)"
      ],
      "metadata": {
        "colab": {
          "base_uri": "https://localhost:8080/"
        },
        "id": "MZMf7R5RNSQQ",
        "outputId": "0b5000c7-18e2-4df0-c1e4-2bc51b2c4c5f"
      },
      "execution_count": 4,
      "outputs": [
        {
          "output_type": "stream",
          "name": "stdout",
          "text": [
            "['[0]', ' 0.000000000\\n']\n",
            "['[1]', ' 0.642787610\\n']\n",
            "['[2]', ' 0.984807753\\n']\n",
            "['[3]', ' 0.866025404\\n']\n",
            "['[4]', ' 0.342020143\\n']\n",
            "['[5]', ' -0.342020143\\n']\n",
            "['[6]', ' -0.866025404\\n']\n",
            "['[7]', ' -0.984807753\\n']\n",
            "['[8]', ' -0.642787610\\n']\n",
            "['[9]', ' -0.000000000\\n']\n"
          ]
        }
      ]
    },
    {
      "cell_type": "code",
      "source": [
        "import matplotlib.pyplot as plt\n",
        "\n",
        "with open(\"sin.txt\",'r') as f:\n",
        "  lines= f.readlines()\n",
        "  y=[]\n",
        "  for line in lines:\n",
        "    words=line.split(':')\n",
        "    y.append(eval(words[1]))\n",
        "\n",
        "plt.plot(y)\n",
        "plt.show()"
      ],
      "metadata": {
        "colab": {
          "base_uri": "https://localhost:8080/",
          "height": 265
        },
        "id": "-U5W0P-tNVw3",
        "outputId": "08aa07e9-40d0-4ea1-c67f-80e95ffe9dae"
      },
      "execution_count": 5,
      "outputs": [
        {
          "output_type": "display_data",
          "data": {
            "text/plain": [
              "<Figure size 432x288 with 1 Axes>"
            ],
            "image/png": "[encoded data removed]"
          },
          "metadata": {
            "needs_background": "light"
          }
        }
      ]
    },
    {
      "cell_type": "code",
      "source": [],
      "metadata": {
        "id": "olTcVm92NYKj"
      },
      "execution_count": null,
      "outputs": []
    }
  ]
}